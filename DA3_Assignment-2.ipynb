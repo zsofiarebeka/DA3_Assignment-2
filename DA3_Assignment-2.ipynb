{
 "cells": [
  {
   "cell_type": "markdown",
   "id": "27ae31f0-5864-451a-a688-d62c054532b2",
   "metadata": {
    "tags": []
   },
   "source": [
    "# <center>Data Analysis 3 - Assignment 2<center>\n",
    "    \n",
    "<center>Created by Zsófia Rebeka Katona</center>"
   ]
  },
  {
   "cell_type": "markdown",
   "id": "701d09f9-1221-43dc-80fe-d74488b202f8",
   "metadata": {},
   "source": [
    "Methods to use:\n",
    "- ols\n",
    "- tree based method (bagging or boosting)\n",
    "- can be lasso\n",
    "- RF or RGB\n",
    "- the variables may be important\n",
    "- you can put all the things\n",
    "- the model selects it itself\n",
    "- be able to interpret what I'm doing\n",
    "- even with lasso, I can't select all the variables, all the possible interactions\n",
    "- first do a RF and based on the VI, the top 10 most important variables -> build a LASSO model\n",
    "- we have to explain what drives what\n",
    "- you pick the most important variables\n",
    "- it gives us e birdseye view on the relationship between the x and y variables\n",
    "- "
   ]
  },
  {
   "cell_type": "code",
   "execution_count": 1,
   "id": "090d6e79-6b3d-4a98-9c50-15346bf7f311",
   "metadata": {
    "tags": []
   },
   "outputs": [],
   "source": [
    "# Importing the required libraries\n",
    "import warnings\n",
    "warnings.filterwarnings('ignore')\n",
    "\n",
    "import pandas as pd\n",
    "import numpy as np\n",
    "import os\n",
    "from pathlib import Path\n",
    "import sys\n",
    "from patsy import dmatrices\n",
    "from sklearn.model_selection import train_test_split\n",
    "import matplotlib.pyplot as plt\n",
    "\n",
    "from sklearn.ensemble import RandomForestRegressor\n",
    "from sklearn.model_selection import GridSearchCV\n",
    "from sklearn.model_selection import RandomizedSearchCV\n",
    "from sklearn.impute import SimpleImputer\n",
    "from sklearn.inspection import permutation_importance\n",
    "from sklearn.inspection import PartialDependenceDisplay\n",
    "from sklearn.inspection import partial_dependence\n",
    "from sklearn.compose import ColumnTransformer\n",
    "from sklearn.pipeline import Pipeline\n",
    "from sklearn.preprocessing import OneHotEncoder\n",
    "from sklearn.metrics import mean_squared_error\n",
    "from sklearn.linear_model import Lasso\n",
    "import patsy\n",
    "from sklearn.model_selection import RepeatedKFold\n",
    "from sklearn.preprocessing import StandardScaler\n",
    "import statsmodels.api as sm\n",
    "import statsmodels.formula.api as smf\n",
    "from stargazer import stargazer\n",
    "from statsmodels.tools.eval_measures import mse,rmse\n",
    "import math\n",
    "\n",
    "import ast\n",
    "import seaborn as sns\n",
    "from plotnine import *"
   ]
  },
  {
   "cell_type": "code",
   "execution_count": 2,
   "id": "1de5e509-7b33-4cf0-93d6-7f993275c195",
   "metadata": {
    "tags": []
   },
   "outputs": [],
   "source": [
    "# Importing the prewritten helper functions\n",
    "from py_helper_functions import *"
   ]
  },
  {
   "cell_type": "markdown",
   "id": "b78d24b7-a5cd-4d7c-a697-9b478445f019",
   "metadata": {},
   "source": [
    "____________________________________________________________________________________________________________________________\n",
    "# Data importing"
   ]
  },
  {
   "cell_type": "code",
   "execution_count": 4,
   "id": "3b09acd1-bd26-42cc-bc88-2b68453655bf",
   "metadata": {
    "tags": []
   },
   "outputs": [],
   "source": [
    "# Importing data from github\n",
    "data = pd.read_csv('https://raw.githubusercontent.com/zsofiarebeka/DA3_Assignment-2/main/Toronto_airbnb_listings.csv')"
   ]
  },
  {
   "cell_type": "code",
   "execution_count": 5,
   "id": "f372b43b-edcf-4070-9f5d-093508c34e35",
   "metadata": {
    "tags": []
   },
   "outputs": [
    {
     "data": {
      "text/html": [
       "<div>\n",
       "<style scoped>\n",
       "    .dataframe tbody tr th:only-of-type {\n",
       "        vertical-align: middle;\n",
       "    }\n",
       "\n",
       "    .dataframe tbody tr th {\n",
       "        vertical-align: top;\n",
       "    }\n",
       "\n",
       "    .dataframe thead th {\n",
       "        text-align: right;\n",
       "    }\n",
       "</style>\n",
       "<table border=\"1\" class=\"dataframe\">\n",
       "  <thead>\n",
       "    <tr style=\"text-align: right;\">\n",
       "      <th></th>\n",
       "      <th>id</th>\n",
       "      <th>name</th>\n",
       "      <th>host_id</th>\n",
       "      <th>host_name</th>\n",
       "      <th>neighbourhood_group</th>\n",
       "      <th>neighbourhood</th>\n",
       "      <th>latitude</th>\n",
       "      <th>longitude</th>\n",
       "      <th>room_type</th>\n",
       "      <th>price</th>\n",
       "      <th>minimum_nights</th>\n",
       "      <th>number_of_reviews</th>\n",
       "      <th>last_review</th>\n",
       "      <th>reviews_per_month</th>\n",
       "      <th>calculated_host_listings_count</th>\n",
       "      <th>availability_365</th>\n",
       "      <th>number_of_reviews_ltm</th>\n",
       "      <th>license</th>\n",
       "    </tr>\n",
       "  </thead>\n",
       "  <tbody>\n",
       "    <tr>\n",
       "      <th>0</th>\n",
       "      <td>1419</td>\n",
       "      <td>Home in Toronto · ★5.0 · 5 bedrooms · 7 beds ·...</td>\n",
       "      <td>1565</td>\n",
       "      <td>Alexandra</td>\n",
       "      <td>NaN</td>\n",
       "      <td>Little Portugal</td>\n",
       "      <td>43.64590</td>\n",
       "      <td>-79.42423</td>\n",
       "      <td>Entire home/apt</td>\n",
       "      <td>NaN</td>\n",
       "      <td>28</td>\n",
       "      <td>6</td>\n",
       "      <td>2017-08-07</td>\n",
       "      <td>0.06</td>\n",
       "      <td>1</td>\n",
       "      <td>0</td>\n",
       "      <td>0</td>\n",
       "      <td>NaN</td>\n",
       "    </tr>\n",
       "    <tr>\n",
       "      <th>1</th>\n",
       "      <td>8077</td>\n",
       "      <td>Rental unit in Toronto · ★4.84 · 1 bedroom · 1...</td>\n",
       "      <td>22795</td>\n",
       "      <td>Kathie &amp; Larry</td>\n",
       "      <td>NaN</td>\n",
       "      <td>Waterfront Communities-The Island</td>\n",
       "      <td>43.64080</td>\n",
       "      <td>-79.37673</td>\n",
       "      <td>Private room</td>\n",
       "      <td>100.0</td>\n",
       "      <td>180</td>\n",
       "      <td>169</td>\n",
       "      <td>2013-08-27</td>\n",
       "      <td>0.96</td>\n",
       "      <td>2</td>\n",
       "      <td>0</td>\n",
       "      <td>0</td>\n",
       "      <td>NaN</td>\n",
       "    </tr>\n",
       "    <tr>\n",
       "      <th>2</th>\n",
       "      <td>26654</td>\n",
       "      <td>Condo in Toronto · ★4.79 · 1 bedroom · 2 beds ...</td>\n",
       "      <td>113345</td>\n",
       "      <td>Adela</td>\n",
       "      <td>NaN</td>\n",
       "      <td>Waterfront Communities-The Island</td>\n",
       "      <td>43.64608</td>\n",
       "      <td>-79.39032</td>\n",
       "      <td>Entire home/apt</td>\n",
       "      <td>145.0</td>\n",
       "      <td>28</td>\n",
       "      <td>42</td>\n",
       "      <td>2023-09-01</td>\n",
       "      <td>0.27</td>\n",
       "      <td>5</td>\n",
       "      <td>77</td>\n",
       "      <td>2</td>\n",
       "      <td>NaN</td>\n",
       "    </tr>\n",
       "    <tr>\n",
       "      <th>3</th>\n",
       "      <td>27423</td>\n",
       "      <td>Rental unit in Toronto · ★4.93 · Studio · 1 be...</td>\n",
       "      <td>118124</td>\n",
       "      <td>Brent</td>\n",
       "      <td>NaN</td>\n",
       "      <td>South Riverdale</td>\n",
       "      <td>43.66884</td>\n",
       "      <td>-79.32725</td>\n",
       "      <td>Entire home/apt</td>\n",
       "      <td>75.0</td>\n",
       "      <td>90</td>\n",
       "      <td>28</td>\n",
       "      <td>2023-08-31</td>\n",
       "      <td>0.17</td>\n",
       "      <td>1</td>\n",
       "      <td>215</td>\n",
       "      <td>1</td>\n",
       "      <td>NaN</td>\n",
       "    </tr>\n",
       "    <tr>\n",
       "      <th>4</th>\n",
       "      <td>30931</td>\n",
       "      <td>Rental unit in Toronto · 1 bedroom · 2 beds · ...</td>\n",
       "      <td>22795</td>\n",
       "      <td>Kathie &amp; Larry</td>\n",
       "      <td>NaN</td>\n",
       "      <td>Waterfront Communities-The Island</td>\n",
       "      <td>43.64015</td>\n",
       "      <td>-79.37625</td>\n",
       "      <td>Entire home/apt</td>\n",
       "      <td>134.0</td>\n",
       "      <td>180</td>\n",
       "      <td>1</td>\n",
       "      <td>2010-08-11</td>\n",
       "      <td>0.01</td>\n",
       "      <td>2</td>\n",
       "      <td>0</td>\n",
       "      <td>0</td>\n",
       "      <td>NaN</td>\n",
       "    </tr>\n",
       "  </tbody>\n",
       "</table>\n",
       "</div>"
      ],
      "text/plain": [
       "      id                                               name  host_id  \\\n",
       "0   1419  Home in Toronto · ★5.0 · 5 bedrooms · 7 beds ·...     1565   \n",
       "1   8077  Rental unit in Toronto · ★4.84 · 1 bedroom · 1...    22795   \n",
       "2  26654  Condo in Toronto · ★4.79 · 1 bedroom · 2 beds ...   113345   \n",
       "3  27423  Rental unit in Toronto · ★4.93 · Studio · 1 be...   118124   \n",
       "4  30931  Rental unit in Toronto · 1 bedroom · 2 beds · ...    22795   \n",
       "\n",
       "        host_name  neighbourhood_group                      neighbourhood  \\\n",
       "0       Alexandra                  NaN                    Little Portugal   \n",
       "1  Kathie & Larry                  NaN  Waterfront Communities-The Island   \n",
       "2           Adela                  NaN  Waterfront Communities-The Island   \n",
       "3           Brent                  NaN                    South Riverdale   \n",
       "4  Kathie & Larry                  NaN  Waterfront Communities-The Island   \n",
       "\n",
       "   latitude  longitude        room_type  price  minimum_nights  \\\n",
       "0  43.64590  -79.42423  Entire home/apt    NaN              28   \n",
       "1  43.64080  -79.37673     Private room  100.0             180   \n",
       "2  43.64608  -79.39032  Entire home/apt  145.0              28   \n",
       "3  43.66884  -79.32725  Entire home/apt   75.0              90   \n",
       "4  43.64015  -79.37625  Entire home/apt  134.0             180   \n",
       "\n",
       "   number_of_reviews last_review  reviews_per_month  \\\n",
       "0                  6  2017-08-07               0.06   \n",
       "1                169  2013-08-27               0.96   \n",
       "2                 42  2023-09-01               0.27   \n",
       "3                 28  2023-08-31               0.17   \n",
       "4                  1  2010-08-11               0.01   \n",
       "\n",
       "   calculated_host_listings_count  availability_365  number_of_reviews_ltm  \\\n",
       "0                               1                 0                      0   \n",
       "1                               2                 0                      0   \n",
       "2                               5                77                      2   \n",
       "3                               1               215                      1   \n",
       "4                               2                 0                      0   \n",
       "\n",
       "  license  \n",
       "0     NaN  \n",
       "1     NaN  \n",
       "2     NaN  \n",
       "3     NaN  \n",
       "4     NaN  "
      ]
     },
     "execution_count": 5,
     "metadata": {},
     "output_type": "execute_result"
    }
   ],
   "source": [
    "# Checking the data\n",
    "data.head()"
   ]
  },
  {
   "cell_type": "code",
   "execution_count": 6,
   "id": "a59ee82e-6011-4843-9139-a4ece058dfd0",
   "metadata": {
    "tags": []
   },
   "outputs": [
    {
     "name": "stdout",
     "output_type": "stream",
     "text": [
      "<class 'pandas.core.frame.DataFrame'>\n",
      "RangeIndex: 20386 entries, 0 to 20385\n",
      "Data columns (total 18 columns):\n",
      " #   Column                          Non-Null Count  Dtype  \n",
      "---  ------                          --------------  -----  \n",
      " 0   id                              20386 non-null  int64  \n",
      " 1   name                            20386 non-null  object \n",
      " 2   host_id                         20386 non-null  int64  \n",
      " 3   host_name                       20384 non-null  object \n",
      " 4   neighbourhood_group             0 non-null      float64\n",
      " 5   neighbourhood                   20386 non-null  object \n",
      " 6   latitude                        20386 non-null  float64\n",
      " 7   longitude                       20386 non-null  float64\n",
      " 8   room_type                       20386 non-null  object \n",
      " 9   price                           16595 non-null  float64\n",
      " 10  minimum_nights                  20386 non-null  int64  \n",
      " 11  number_of_reviews               20386 non-null  int64  \n",
      " 12  last_review                     15128 non-null  object \n",
      " 13  reviews_per_month               15128 non-null  float64\n",
      " 14  calculated_host_listings_count  20386 non-null  int64  \n",
      " 15  availability_365                20386 non-null  int64  \n",
      " 16  number_of_reviews_ltm           20386 non-null  int64  \n",
      " 17  license                         9456 non-null   object \n",
      "dtypes: float64(5), int64(7), object(6)\n",
      "memory usage: 2.8+ MB\n"
     ]
    }
   ],
   "source": [
    "# Checking out the info\n",
    "data.info()"
   ]
  },
  {
   "cell_type": "markdown",
   "id": "9f3b7422-afb5-487b-b65a-96a90b4365eb",
   "metadata": {},
   "source": [
    "__________________________________________________________________________________________________________________________\n",
    "## Data cleaning"
   ]
  },
  {
   "cell_type": "code",
   "execution_count": 7,
   "id": "c963985c-1b40-4b54-905e-a717fa06fceb",
   "metadata": {
    "tags": []
   },
   "outputs": [
    {
     "ename": "KeyError",
     "evalue": "\"['listing_url', 'scrape_id', 'last_scraped', 'description', 'neighborhood_overview', 'picture_url', 'neighbourhood_group_cleansed', 'bathrooms', 'host_url', 'host_location', 'host_about', 'host_response_time', 'host_thumbnail_url', 'host_picture_url'] not found in axis\"",
     "output_type": "error",
     "traceback": [
      "\u001b[1;31m---------------------------------------------------------------------------\u001b[0m",
      "\u001b[1;31mKeyError\u001b[0m                                  Traceback (most recent call last)",
      "Cell \u001b[1;32mIn[7], line 2\u001b[0m\n\u001b[0;32m      1\u001b[0m \u001b[38;5;66;03m# Dropping columns that are not needed\u001b[39;00m\n\u001b[1;32m----> 2\u001b[0m data \u001b[38;5;241m=\u001b[39m data\u001b[38;5;241m.\u001b[39mdrop(columns \u001b[38;5;241m=\u001b[39m [\u001b[38;5;124m\"\u001b[39m\u001b[38;5;124mlisting_url\u001b[39m\u001b[38;5;124m\"\u001b[39m,\n\u001b[0;32m      3\u001b[0m                             \u001b[38;5;124m\"\u001b[39m\u001b[38;5;124mscrape_id\u001b[39m\u001b[38;5;124m\"\u001b[39m,\n\u001b[0;32m      4\u001b[0m                             \u001b[38;5;124m\"\u001b[39m\u001b[38;5;124mlast_scraped\u001b[39m\u001b[38;5;124m\"\u001b[39m,\n\u001b[0;32m      5\u001b[0m                             \u001b[38;5;124m\"\u001b[39m\u001b[38;5;124mname\u001b[39m\u001b[38;5;124m\"\u001b[39m,\n\u001b[0;32m      6\u001b[0m                             \u001b[38;5;124m\"\u001b[39m\u001b[38;5;124mdescription\u001b[39m\u001b[38;5;124m\"\u001b[39m,\n\u001b[0;32m      7\u001b[0m                             \u001b[38;5;124m\"\u001b[39m\u001b[38;5;124mneighborhood_overview\u001b[39m\u001b[38;5;124m\"\u001b[39m,\n\u001b[0;32m      8\u001b[0m                             \u001b[38;5;124m\"\u001b[39m\u001b[38;5;124mpicture_url\u001b[39m\u001b[38;5;124m\"\u001b[39m,\n\u001b[0;32m      9\u001b[0m                             \u001b[38;5;124m\"\u001b[39m\u001b[38;5;124mneighbourhood_group_cleansed\u001b[39m\u001b[38;5;124m\"\u001b[39m,\n\u001b[0;32m     10\u001b[0m                             \u001b[38;5;124m\"\u001b[39m\u001b[38;5;124mbathrooms\u001b[39m\u001b[38;5;124m\"\u001b[39m,\n\u001b[0;32m     11\u001b[0m                             \u001b[38;5;124m\"\u001b[39m\u001b[38;5;124mhost_url\u001b[39m\u001b[38;5;124m\"\u001b[39m,\n\u001b[0;32m     12\u001b[0m                             \u001b[38;5;124m\"\u001b[39m\u001b[38;5;124mhost_location\u001b[39m\u001b[38;5;124m\"\u001b[39m,\n\u001b[0;32m     13\u001b[0m                             \u001b[38;5;124m\"\u001b[39m\u001b[38;5;124mhost_about\u001b[39m\u001b[38;5;124m\"\u001b[39m,\n\u001b[0;32m     14\u001b[0m                             \u001b[38;5;124m\"\u001b[39m\u001b[38;5;124mhost_response_time\u001b[39m\u001b[38;5;124m\"\u001b[39m,\n\u001b[0;32m     15\u001b[0m                             \u001b[38;5;124m\"\u001b[39m\u001b[38;5;124mhost_thumbnail_url\u001b[39m\u001b[38;5;124m\"\u001b[39m,\n\u001b[0;32m     16\u001b[0m                             \u001b[38;5;124m\"\u001b[39m\u001b[38;5;124mhost_picture_url\u001b[39m\u001b[38;5;124m\"\u001b[39m,\n\u001b[0;32m     17\u001b[0m                             \u001b[38;5;124m\"\u001b[39m\u001b[38;5;124mlicense\u001b[39m\u001b[38;5;124m\"\u001b[39m\n\u001b[0;32m     18\u001b[0m                             ])\n",
      "File \u001b[1;32mC:\\ProgramData\\anaconda3\\Lib\\site-packages\\pandas\\util\\_decorators.py:331\u001b[0m, in \u001b[0;36mdeprecate_nonkeyword_arguments.<locals>.decorate.<locals>.wrapper\u001b[1;34m(*args, **kwargs)\u001b[0m\n\u001b[0;32m    325\u001b[0m \u001b[38;5;28;01mif\u001b[39;00m \u001b[38;5;28mlen\u001b[39m(args) \u001b[38;5;241m>\u001b[39m num_allow_args:\n\u001b[0;32m    326\u001b[0m     warnings\u001b[38;5;241m.\u001b[39mwarn(\n\u001b[0;32m    327\u001b[0m         msg\u001b[38;5;241m.\u001b[39mformat(arguments\u001b[38;5;241m=\u001b[39m_format_argument_list(allow_args)),\n\u001b[0;32m    328\u001b[0m         \u001b[38;5;167;01mFutureWarning\u001b[39;00m,\n\u001b[0;32m    329\u001b[0m         stacklevel\u001b[38;5;241m=\u001b[39mfind_stack_level(),\n\u001b[0;32m    330\u001b[0m     )\n\u001b[1;32m--> 331\u001b[0m \u001b[38;5;28;01mreturn\u001b[39;00m func(\u001b[38;5;241m*\u001b[39margs, \u001b[38;5;241m*\u001b[39m\u001b[38;5;241m*\u001b[39mkwargs)\n",
      "File \u001b[1;32mC:\\ProgramData\\anaconda3\\Lib\\site-packages\\pandas\\core\\frame.py:5399\u001b[0m, in \u001b[0;36mDataFrame.drop\u001b[1;34m(self, labels, axis, index, columns, level, inplace, errors)\u001b[0m\n\u001b[0;32m   5251\u001b[0m \u001b[38;5;129m@deprecate_nonkeyword_arguments\u001b[39m(version\u001b[38;5;241m=\u001b[39m\u001b[38;5;28;01mNone\u001b[39;00m, allowed_args\u001b[38;5;241m=\u001b[39m[\u001b[38;5;124m\"\u001b[39m\u001b[38;5;124mself\u001b[39m\u001b[38;5;124m\"\u001b[39m, \u001b[38;5;124m\"\u001b[39m\u001b[38;5;124mlabels\u001b[39m\u001b[38;5;124m\"\u001b[39m])\n\u001b[0;32m   5252\u001b[0m \u001b[38;5;28;01mdef\u001b[39;00m \u001b[38;5;21mdrop\u001b[39m(  \u001b[38;5;66;03m# type: ignore[override]\u001b[39;00m\n\u001b[0;32m   5253\u001b[0m     \u001b[38;5;28mself\u001b[39m,\n\u001b[1;32m   (...)\u001b[0m\n\u001b[0;32m   5260\u001b[0m     errors: IgnoreRaise \u001b[38;5;241m=\u001b[39m \u001b[38;5;124m\"\u001b[39m\u001b[38;5;124mraise\u001b[39m\u001b[38;5;124m\"\u001b[39m,\n\u001b[0;32m   5261\u001b[0m ) \u001b[38;5;241m-\u001b[39m\u001b[38;5;241m>\u001b[39m DataFrame \u001b[38;5;241m|\u001b[39m \u001b[38;5;28;01mNone\u001b[39;00m:\n\u001b[0;32m   5262\u001b[0m \u001b[38;5;250m    \u001b[39m\u001b[38;5;124;03m\"\"\"\u001b[39;00m\n\u001b[0;32m   5263\u001b[0m \u001b[38;5;124;03m    Drop specified labels from rows or columns.\u001b[39;00m\n\u001b[0;32m   5264\u001b[0m \n\u001b[1;32m   (...)\u001b[0m\n\u001b[0;32m   5397\u001b[0m \u001b[38;5;124;03m            weight  1.0     0.8\u001b[39;00m\n\u001b[0;32m   5398\u001b[0m \u001b[38;5;124;03m    \"\"\"\u001b[39;00m\n\u001b[1;32m-> 5399\u001b[0m     \u001b[38;5;28;01mreturn\u001b[39;00m \u001b[38;5;28msuper\u001b[39m()\u001b[38;5;241m.\u001b[39mdrop(\n\u001b[0;32m   5400\u001b[0m         labels\u001b[38;5;241m=\u001b[39mlabels,\n\u001b[0;32m   5401\u001b[0m         axis\u001b[38;5;241m=\u001b[39maxis,\n\u001b[0;32m   5402\u001b[0m         index\u001b[38;5;241m=\u001b[39mindex,\n\u001b[0;32m   5403\u001b[0m         columns\u001b[38;5;241m=\u001b[39mcolumns,\n\u001b[0;32m   5404\u001b[0m         level\u001b[38;5;241m=\u001b[39mlevel,\n\u001b[0;32m   5405\u001b[0m         inplace\u001b[38;5;241m=\u001b[39minplace,\n\u001b[0;32m   5406\u001b[0m         errors\u001b[38;5;241m=\u001b[39merrors,\n\u001b[0;32m   5407\u001b[0m     )\n",
      "File \u001b[1;32mC:\\ProgramData\\anaconda3\\Lib\\site-packages\\pandas\\util\\_decorators.py:331\u001b[0m, in \u001b[0;36mdeprecate_nonkeyword_arguments.<locals>.decorate.<locals>.wrapper\u001b[1;34m(*args, **kwargs)\u001b[0m\n\u001b[0;32m    325\u001b[0m \u001b[38;5;28;01mif\u001b[39;00m \u001b[38;5;28mlen\u001b[39m(args) \u001b[38;5;241m>\u001b[39m num_allow_args:\n\u001b[0;32m    326\u001b[0m     warnings\u001b[38;5;241m.\u001b[39mwarn(\n\u001b[0;32m    327\u001b[0m         msg\u001b[38;5;241m.\u001b[39mformat(arguments\u001b[38;5;241m=\u001b[39m_format_argument_list(allow_args)),\n\u001b[0;32m    328\u001b[0m         \u001b[38;5;167;01mFutureWarning\u001b[39;00m,\n\u001b[0;32m    329\u001b[0m         stacklevel\u001b[38;5;241m=\u001b[39mfind_stack_level(),\n\u001b[0;32m    330\u001b[0m     )\n\u001b[1;32m--> 331\u001b[0m \u001b[38;5;28;01mreturn\u001b[39;00m func(\u001b[38;5;241m*\u001b[39margs, \u001b[38;5;241m*\u001b[39m\u001b[38;5;241m*\u001b[39mkwargs)\n",
      "File \u001b[1;32mC:\\ProgramData\\anaconda3\\Lib\\site-packages\\pandas\\core\\generic.py:4505\u001b[0m, in \u001b[0;36mNDFrame.drop\u001b[1;34m(self, labels, axis, index, columns, level, inplace, errors)\u001b[0m\n\u001b[0;32m   4503\u001b[0m \u001b[38;5;28;01mfor\u001b[39;00m axis, labels \u001b[38;5;129;01min\u001b[39;00m axes\u001b[38;5;241m.\u001b[39mitems():\n\u001b[0;32m   4504\u001b[0m     \u001b[38;5;28;01mif\u001b[39;00m labels \u001b[38;5;129;01mis\u001b[39;00m \u001b[38;5;129;01mnot\u001b[39;00m \u001b[38;5;28;01mNone\u001b[39;00m:\n\u001b[1;32m-> 4505\u001b[0m         obj \u001b[38;5;241m=\u001b[39m obj\u001b[38;5;241m.\u001b[39m_drop_axis(labels, axis, level\u001b[38;5;241m=\u001b[39mlevel, errors\u001b[38;5;241m=\u001b[39merrors)\n\u001b[0;32m   4507\u001b[0m \u001b[38;5;28;01mif\u001b[39;00m inplace:\n\u001b[0;32m   4508\u001b[0m     \u001b[38;5;28mself\u001b[39m\u001b[38;5;241m.\u001b[39m_update_inplace(obj)\n",
      "File \u001b[1;32mC:\\ProgramData\\anaconda3\\Lib\\site-packages\\pandas\\core\\generic.py:4546\u001b[0m, in \u001b[0;36mNDFrame._drop_axis\u001b[1;34m(self, labels, axis, level, errors, only_slice)\u001b[0m\n\u001b[0;32m   4544\u001b[0m         new_axis \u001b[38;5;241m=\u001b[39m axis\u001b[38;5;241m.\u001b[39mdrop(labels, level\u001b[38;5;241m=\u001b[39mlevel, errors\u001b[38;5;241m=\u001b[39merrors)\n\u001b[0;32m   4545\u001b[0m     \u001b[38;5;28;01melse\u001b[39;00m:\n\u001b[1;32m-> 4546\u001b[0m         new_axis \u001b[38;5;241m=\u001b[39m axis\u001b[38;5;241m.\u001b[39mdrop(labels, errors\u001b[38;5;241m=\u001b[39merrors)\n\u001b[0;32m   4547\u001b[0m     indexer \u001b[38;5;241m=\u001b[39m axis\u001b[38;5;241m.\u001b[39mget_indexer(new_axis)\n\u001b[0;32m   4549\u001b[0m \u001b[38;5;66;03m# Case for non-unique axis\u001b[39;00m\n\u001b[0;32m   4550\u001b[0m \u001b[38;5;28;01melse\u001b[39;00m:\n",
      "File \u001b[1;32mC:\\ProgramData\\anaconda3\\Lib\\site-packages\\pandas\\core\\indexes\\base.py:6934\u001b[0m, in \u001b[0;36mIndex.drop\u001b[1;34m(self, labels, errors)\u001b[0m\n\u001b[0;32m   6932\u001b[0m \u001b[38;5;28;01mif\u001b[39;00m mask\u001b[38;5;241m.\u001b[39many():\n\u001b[0;32m   6933\u001b[0m     \u001b[38;5;28;01mif\u001b[39;00m errors \u001b[38;5;241m!=\u001b[39m \u001b[38;5;124m\"\u001b[39m\u001b[38;5;124mignore\u001b[39m\u001b[38;5;124m\"\u001b[39m:\n\u001b[1;32m-> 6934\u001b[0m         \u001b[38;5;28;01mraise\u001b[39;00m \u001b[38;5;167;01mKeyError\u001b[39;00m(\u001b[38;5;124mf\u001b[39m\u001b[38;5;124m\"\u001b[39m\u001b[38;5;132;01m{\u001b[39;00m\u001b[38;5;28mlist\u001b[39m(labels[mask])\u001b[38;5;132;01m}\u001b[39;00m\u001b[38;5;124m not found in axis\u001b[39m\u001b[38;5;124m\"\u001b[39m)\n\u001b[0;32m   6935\u001b[0m     indexer \u001b[38;5;241m=\u001b[39m indexer[\u001b[38;5;241m~\u001b[39mmask]\n\u001b[0;32m   6936\u001b[0m \u001b[38;5;28;01mreturn\u001b[39;00m \u001b[38;5;28mself\u001b[39m\u001b[38;5;241m.\u001b[39mdelete(indexer)\n",
      "\u001b[1;31mKeyError\u001b[0m: \"['listing_url', 'scrape_id', 'last_scraped', 'description', 'neighborhood_overview', 'picture_url', 'neighbourhood_group_cleansed', 'bathrooms', 'host_url', 'host_location', 'host_about', 'host_response_time', 'host_thumbnail_url', 'host_picture_url'] not found in axis\""
     ]
    }
   ],
   "source": [
    "# Dropping columns that are not needed\n",
    "data = data.drop(columns = [\"listing_url\",\n",
    "                            \"scrape_id\",\n",
    "                            \"last_scraped\",\n",
    "                            \"name\",\n",
    "                            \"description\",\n",
    "                            \"neighborhood_overview\",\n",
    "                            \"picture_url\",\n",
    "                            \"neighbourhood_group_cleansed\",\n",
    "                            \"bathrooms\",\n",
    "                            \"host_url\",\n",
    "                            \"host_location\",\n",
    "                            \"host_about\",\n",
    "                            \"host_response_time\",\n",
    "                            \"host_thumbnail_url\",\n",
    "                            \"host_picture_url\",\n",
    "                            \"license\"\n",
    "                            ])"
   ]
  },
  {
   "cell_type": "markdown",
   "id": "6cd06ab2-0b77-416c-b335-21858f0135c5",
   "metadata": {},
   "source": [
    "__________________________________________________________________________________________________________________________\n",
    "## Feature Engineering"
   ]
  },
  {
   "cell_type": "code",
   "execution_count": null,
   "id": "845cc0e3-99fb-48de-8b3f-101b2e567caa",
   "metadata": {
    "tags": []
   },
   "outputs": [],
   "source": [
    "# Turning the columns with t/f values to binary columns and rename them\n",
    "binary_columns = [\"host_is_superhost\",\n",
    "                  \"host_has_profile_pic\",\n",
    "                  \"host_identity_verified\",\n",
    "                  \"has_availability\",\n",
    "                  \"instant_bookable\"\n",
    "                 ]\n",
    "for col in binary_columns:\n",
    "    data[\"d_\" + col] = data[col].map({\"t\": 1, \"f\": 0})"
   ]
  },
  {
   "cell_type": "code",
   "execution_count": null,
   "id": "7c56d15d-1101-4b13-9b51-ee02977611ea",
   "metadata": {
    "tags": []
   },
   "outputs": [],
   "source": [
    "data.T"
   ]
  },
  {
   "cell_type": "code",
   "execution_count": null,
   "id": "550b54df-93d7-4894-9f15-40f3564ad3e6",
   "metadata": {},
   "outputs": [],
   "source": [
    "# Formatting columns with percentages\n",
    "for perc in [\"host_response_rate\", \"host_acceptance_rate\"]:\n",
    "    data[perc] = data[perc].replace(\"%\", \"\", regex=True)\n",
    "    data[perc] = pd.to_numeric(data[perc], errors=\"coerce\")"
   ]
  },
  {
   "cell_type": "code",
   "execution_count": null,
   "id": "ff792db0-3231-45fc-ab4c-a1627a54c2d2",
   "metadata": {
    "tags": []
   },
   "outputs": [],
   "source": [
    "# Drop the untransformed binary columns\n",
    "for col in binary_columns:\n",
    "    data.drop(columns=[col], inplace=True)"
   ]
  },
  {
   "cell_type": "code",
   "execution_count": null,
   "id": "16d2bb1f-0c86-4d9d-b79b-1299387e44a8",
   "metadata": {
    "tags": []
   },
   "outputs": [],
   "source": [
    "# Coverting time-related columns to datetime type of objects\n",
    "datetime_columns = [\"host_since\",\n",
    "                    \"calendar_updated\",\n",
    "                    \"calendar_last_scraped\",\n",
    "                    \"first_review\",\n",
    "                    \"last_review\"\n",
    "                    ]\n",
    "for col in datetime_columns:\n",
    "    data[col] = pd.to_datetime(data[col], errors = 'coerce') "
   ]
  },
  {
   "cell_type": "code",
   "execution_count": null,
   "id": "b3fac409-809f-4148-84a8-298a4a60dc2c",
   "metadata": {
    "tags": []
   },
   "outputs": [],
   "source": [
    "# Cleaning the price column from currency symbols and decimals\n",
    "data.price = data.price.str.replace(\"$\", \"\").str.replace(\",\", \"\")\n",
    "\n",
    "# Removing rows with empty strings to be able to convert to float\n",
    "data = data[data[\"price\"] != \"\"]\n",
    "\n",
    "# Turning the price column to float\n",
    "data[\"price\"] = data[\"price\"].astype(float)\n",
    "\n",
    "# Rename the price columns\n",
    "data.rename(columns={\"price\": \"usd_price_day\"}, inplace=True)\n",
    "\n",
    "# Dropping rows where price is missing\n",
    "data = data.dropna(subset=['usd_price_day'])"
   ]
  },
  {
   "cell_type": "code",
   "execution_count": null,
   "id": "6e77d1e7-dacc-485e-8b6f-c71affcc2f07",
   "metadata": {
    "tags": []
   },
   "outputs": [],
   "source": [
    "# Filtering for small and mid-size apartments hosting 2-6 guests\n",
    "data = data[(data.accommodates >= 2) & (data.accommodates <= 6)]"
   ]
  },
  {
   "cell_type": "markdown",
   "id": "536657e4-8b74-4a30-a6bd-375c86730f5e",
   "metadata": {},
   "source": [
    "#### Property types variable"
   ]
  },
  {
   "cell_type": "code",
   "execution_count": null,
   "id": "f2836789-db1c-4438-95f6-603fd8baeeef",
   "metadata": {},
   "outputs": [],
   "source": [
    "# Checking the property types and their number\n",
    "data.property_type.value_counts()"
   ]
  },
  {
   "cell_type": "code",
   "execution_count": null,
   "id": "5a7b77ca-6e14-41c7-87f9-06929f0aca4f",
   "metadata": {
    "tags": []
   },
   "outputs": [],
   "source": [
    "# Only keeping the property types if they are small and mid-size apartments\n",
    "data = data.loc[lambda x: x[\"property_type\"].isin([\"Entire rental unit\",\n",
    "                                                   \"Entire condo\",\n",
    "                                                   \"Private room in home\",\n",
    "                                                   \"Entire home\",\n",
    "                                                   \"Private room in rental unit\",\n",
    "                                                   \"Entire loft\",\n",
    "                                                   \"Entire serviced apartment\",\n",
    "                                                   \"Entire home/apt\",\n",
    "                                                   \"Shared room in rental unit\",\n",
    "                                                   \"Shared room in home\"\n",
    "                                                  ])]"
   ]
  },
  {
   "cell_type": "code",
   "execution_count": null,
   "id": "5184bea2-20e9-495f-9d7b-0ffc150c2950",
   "metadata": {
    "tags": []
   },
   "outputs": [],
   "source": [
    "# Categorizing the properties to Rental Unit or House catgeories\n",
    "data['property_type'] = data['property_type'].apply(lambda x: 'Rental Unit' if \"rental unit\" in x else 'House')"
   ]
  },
  {
   "cell_type": "markdown",
   "id": "2b5d4486-2015-47e6-bd6e-6552d7b5a673",
   "metadata": {},
   "source": [
    "#### Room types and bed variables"
   ]
  },
  {
   "cell_type": "code",
   "execution_count": null,
   "id": "b202deff-cbd2-4297-8968-bf7e9c5c4ea0",
   "metadata": {
    "tags": []
   },
   "outputs": [],
   "source": [
    "# Checking the room types\n",
    "data.value_counts(\"room_type\")"
   ]
  },
  {
   "cell_type": "code",
   "execution_count": null,
   "id": "91ad5612-0523-4967-b8e9-6354bcf2b5ee",
   "metadata": {
    "tags": []
   },
   "outputs": [],
   "source": [
    "# Renaming the room types as they are too long\n",
    "data[\"room_type\"] = data[\"room_type\"].map({\"Entire home/apt\": \"Entire/Apt\",\n",
    "                                          \"Private room\": \"Private\",\n",
    "                                          \"Shared room\" : 'Shared'})"
   ]
  },
  {
   "cell_type": "code",
   "execution_count": null,
   "id": "9ad7c08f-0351-4e41-b10c-4871ce6733bb",
   "metadata": {
    "tags": []
   },
   "outputs": [],
   "source": [
    "# Checking the bed types\n",
    "data.beds.value_counts()"
   ]
  },
  {
   "cell_type": "markdown",
   "id": "4ce8d630-78ef-42da-a42d-7cf6427f67c1",
   "metadata": {},
   "source": [
    "#### Bathrooms variable"
   ]
  },
  {
   "cell_type": "code",
   "execution_count": null,
   "id": "6ffc7b40-ea3e-449d-b5bc-dce614908818",
   "metadata": {
    "tags": []
   },
   "outputs": [],
   "source": [
    "# Checking the bathroom types\n",
    "data[\"bathrooms_text\"].value_counts()"
   ]
  },
  {
   "cell_type": "code",
   "execution_count": null,
   "id": "3879fda0-68bc-4454-985d-5a0f1cea1695",
   "metadata": {
    "tags": []
   },
   "outputs": [],
   "source": [
    "# Assigning numerical values to bathrooms\n",
    "data[\"bathrooms_text\"] = data[\"bathrooms_text\"].map({\"1 bath\": 1,\n",
    "                                                  \"2 baths\": 2,\n",
    "                                                  \"1 private bath\": 1,\n",
    "                                                  \"1 shared bath\": 1,\n",
    "                                                  \"1.5 baths\": 1.5,\n",
    "                                                  \"2.5 baths\": 2.5,\n",
    "                                                  \"1.5 shared baths\": 1.5,\n",
    "                                                  \"2 shared baths\": 2,\n",
    "                                                  \"3 baths\": 3,\n",
    "                                                  \"3.5 baths\": 3.5,\n",
    "                                                  \"4 baths\": 4,\n",
    "                                                  \"3 shared baths\": 3,\n",
    "                                                  \"0 baths\": 0,\n",
    "                                                  \"5 baths\": 5,\n",
    "                                                  \"4.5 baths\" : 4.5,\n",
    "                                                  \"5.5 baths\" : 5.5,\n",
    "                                                  \"8 baths\" : 8,\n",
    "                                                  \"Private half-bath\" : 0.5\n",
    "                                                  })"
   ]
  },
  {
   "cell_type": "code",
   "execution_count": null,
   "id": "9cee1caa-0242-48e8-950c-a1790921d7c8",
   "metadata": {
    "tags": []
   },
   "outputs": [],
   "source": [
    "# Renaming the bathrooms_text column to bathrooms\n",
    "data.rename(columns={\"bathrooms_text\": \"bathrooms\"}, inplace = True)"
   ]
  },
  {
   "cell_type": "markdown",
   "id": "eb552ec7-bdff-423b-952b-820f8e0ba552",
   "metadata": {},
   "source": [
    "### Pooling values"
   ]
  },
  {
   "cell_type": "code",
   "execution_count": null,
   "id": "6b8d61c2-ab44-40dd-b825-cd6fd74e5f9f",
   "metadata": {
    "tags": []
   },
   "outputs": [],
   "source": [
    "# Pooling accomodations with 0, 1, 2-10 bathrooms\n",
    "\n",
    "bins = pd.IntervalIndex.from_tuples([(0, 1), (1, 2), (2, 10)], closed=\"left\")\n",
    "f_bath = pd.cut(data[\"bathrooms\"].to_list(), bins, labels=[\"0.0\", \"1.0\", \"2.0\"])\n",
    "f_bath.categories = [0, 1, 2]\n",
    "data[\"bathrooms\"] = f_bath\n",
    "\n",
    "f_bath.value_counts(dropna=False)"
   ]
  },
  {
   "cell_type": "code",
   "execution_count": null,
   "id": "bce649ad-b332-47ca-8a03-480b758ad369",
   "metadata": {
    "tags": []
   },
   "outputs": [],
   "source": [
    "data.number_of_reviews.describe()"
   ]
  },
  {
   "cell_type": "code",
   "execution_count": null,
   "id": "1d98c010-3ad7-415c-8eab-485239726283",
   "metadata": {
    "tags": []
   },
   "outputs": [],
   "source": [
    "# Pooling the number of reviews into three categories: none, 1-27 and over 27\n",
    "\n",
    "bins = pd.IntervalIndex.from_tuples(\n",
    "    [(0, 1), (1, 27), (27, max(data.number_of_reviews))], closed=\"left\"\n",
    ")\n",
    "fnor = pd.cut(data[\"number_of_reviews\"].to_list(), bins, labels=[\"0\", \"1\", \"2\"])\n",
    "fnor.categories = [0, 1, 2]\n",
    "data[\"number_of_reviews\"] = fnor\n",
    "data[\"number_of_reviews\"].value_counts(dropna=False)"
   ]
  },
  {
   "cell_type": "code",
   "execution_count": null,
   "id": "174201a8-ead1-4d81-95ec-344413113f10",
   "metadata": {
    "tags": []
   },
   "outputs": [],
   "source": [
    "# Pooling and categorizing the number of minimum nights: 1,2,3 and 3+\n",
    "\n",
    "bins = pd.IntervalIndex.from_tuples(\n",
    "    [(1, 2), (2, 3), (3, max(data.minimum_nights))], closed=\"left\"\n",
    ")\n",
    "f_min_n = pd.cut(data[\"minimum_nights\"].to_list(), bins, labels=[\"1\", \"2\", \"3\"])\n",
    "f_min_n.categories = [1, 2, 3]\n",
    "data[\"minimum_nights\"] = f_min_n\n",
    "data[\"minimum_nights\"].value_counts(dropna=False)"
   ]
  },
  {
   "cell_type": "markdown",
   "id": "7c67ae5c-25ef-4469-a000-9da0daa5afb2",
   "metadata": {},
   "source": [
    "### Working with missing values"
   ]
  },
  {
   "cell_type": "code",
   "execution_count": null,
   "id": "2c92b072-8848-433a-b8c9-8264da70af7b",
   "metadata": {
    "tags": []
   },
   "outputs": [],
   "source": [
    "# Transforming the Infinite values with NaNs\n",
    "data = data.replace([np.inf, -np.inf], np.nan)"
   ]
  },
  {
   "cell_type": "code",
   "execution_count": null,
   "id": "4f311826-1c9e-4da8-8db7-f7388a4ebf30",
   "metadata": {
    "tags": []
   },
   "outputs": [],
   "source": [
    "# Checking for missing values\n",
    "to_filter = data.isna().sum()\n",
    "to_filter[to_filter > 0]"
   ]
  },
  {
   "cell_type": "code",
   "execution_count": null,
   "id": "383ec81c-b5d5-4c1c-b672-69dd2256861f",
   "metadata": {
    "tags": []
   },
   "outputs": [],
   "source": [
    "# In the case of target variable, we have to drop them\n",
    "data = data.loc[lambda x: x.usd_price_day.notnull()]\n",
    "\n",
    "# Making sure ther are no NA values in the target variable\n",
    "data.usd_price_day.isna().value_counts()"
   ]
  },
  {
   "cell_type": "code",
   "execution_count": null,
   "id": "7bfd0457-d99d-42bf-85d2-a100b509c104",
   "metadata": {
    "tags": []
   },
   "outputs": [],
   "source": [
    "# When there is a few and not that important, we can impute them\n",
    "data = data.assign(\n",
    "    host_response_rate=lambda x: x[\"host_response_rate\"].fillna(np.median(x[\"host_response_rate\"].dropna())),\n",
    "    host_acceptance_rate=lambda x: x[\"host_acceptance_rate\"].fillna(np.median(x[\"host_acceptance_rate\"].dropna())),\n",
    "    bathrooms=lambda x: x[\"bathrooms\"].fillna(np.median(x[\"bathrooms\"].dropna())),\n",
    "    beds=lambda x: np.where(x[\"beds\"].isnull(), x[\"accommodates\"], x[\"beds\"]),\n",
    "    minimum_nights=lambda x: x[\"minimum_nights\"].fillna(1),\n",
    "    number_of_reviews=lambda x: x[\"number_of_reviews\"].fillna(1)\n",
    ")"
   ]
  },
  {
   "cell_type": "code",
   "execution_count": null,
   "id": "4498a8a4-af11-44a5-9bbf-de27901f864e",
   "metadata": {
    "tags": []
   },
   "outputs": [],
   "source": [
    "# When there are too many missing values and the column is not that important, we can drop the column\n",
    "data=data.drop(columns = [\"bedrooms\",\n",
    "                \"calendar_updated\",\n",
    "                \"host_neighbourhood\",\n",
    "                \"neighbourhood\"])"
   ]
  },
  {
   "cell_type": "code",
   "execution_count": null,
   "id": "8be6f575-9640-44e5-b90f-d59546928734",
   "metadata": {
    "tags": []
   },
   "outputs": [],
   "source": [
    "# Adding flags to the missing values where the variable is important\n",
    "\n",
    "for var in [\"first_review\",\n",
    "            \"last_review\",\n",
    "            \"review_scores_rating\",\n",
    "            \"review_scores_accuracy\",\n",
    "            \"review_scores_cleanliness\",\n",
    "            \"review_scores_checkin\",\n",
    "            \"review_scores_communication\",\n",
    "            \"review_scores_location\",\n",
    "            \"review_scores_value\",\n",
    "            \"reviews_per_month\"]:\n",
    "    missing_values = data[var].isnull().sum()\n",
    "    data['flag_' + var] = data[var].isnull().astype(int)\n",
    "    print(f\"Number of missing values in {var}: {missing_values}\")"
   ]
  },
  {
   "cell_type": "code",
   "execution_count": null,
   "id": "d19fbd6b-eee3-417a-871d-e0fcf806a9c5",
   "metadata": {
    "tags": []
   },
   "outputs": [],
   "source": [
    "# Checking if the flag columns are correct\n",
    "data.flag_first_review.value_counts()"
   ]
  },
  {
   "cell_type": "markdown",
   "id": "57f4586c-d008-4e88-8a80-2249cecc925a",
   "metadata": {},
   "source": [
    "### Creating numerical values"
   ]
  },
  {
   "cell_type": "code",
   "execution_count": null,
   "id": "08f466c6-5ffa-4efe-bb0c-806efb587981",
   "metadata": {},
   "outputs": [],
   "source": [
    "# Transforming and renaming the numerical columns\n",
    "\n",
    "numericals = [\n",
    "    \"host_listings_count\",\n",
    "    \"host_total_listings_count\",\n",
    "    \"accommodates\",\n",
    "    \"beds\",\n",
    "    \"maximum_nights\",\n",
    "    \"availability_30\",\n",
    "    \"availability_60\",\n",
    "    \"availability_90\",\n",
    "    \"availability_365\",\n",
    "    \"number_of_reviews_ltm\",\n",
    "    \"review_scores_rating\",\n",
    "    \"calculated_host_listings_count\",\n",
    "    \"calculated_host_listings_count_entire_homes\",\n",
    "    \"calculated_host_listings_count_private_rooms\",\n",
    "    \"calculated_host_listings_count_shared_rooms\",\n",
    "    \"reviews_per_month\"\n",
    "]\n",
    "\n",
    "for col in numericals:\n",
    "    data[\"n_\" + col] = pd.to_numeric(data[col], errors=\"coerce\")"
   ]
  },
  {
   "cell_type": "code",
   "execution_count": null,
   "id": "04bc4f8c-1d63-4da7-9752-08cdb2edf5ed",
   "metadata": {
    "tags": []
   },
   "outputs": [],
   "source": [
    "# Drop the untransformed binary columns\n",
    "for col in numericals:\n",
    "    data.drop(columns=[col], inplace=True)"
   ]
  },
  {
   "cell_type": "markdown",
   "id": "55afa7f5-94b9-4f87-a811-e685ce8b952f",
   "metadata": {},
   "source": [
    "### Creating factorial variables"
   ]
  },
  {
   "cell_type": "code",
   "execution_count": null,
   "id": "3c13becf-e54d-4d52-a926-76c0d1d977a7",
   "metadata": {
    "tags": []
   },
   "outputs": [],
   "source": [
    "# Renaming columns to factorial\n",
    "\n",
    "factorials = [\n",
    "    \"room_type\",\n",
    "    \"neighbourhood_cleansed\",\n",
    "    \"property_type\",\n",
    "    \"number_of_reviews\",\n",
    "    \"bathrooms\",\n",
    "    \"minimum_nights\"\n",
    "]\n",
    "\n",
    "for col in factorials:\n",
    "    data.rename(columns={col: \"f_\" + col}, inplace=True)"
   ]
  },
  {
   "cell_type": "markdown",
   "id": "d75fb322-6cd7-4332-92da-a26fd92bf691",
   "metadata": {},
   "source": [
    "__________________________________________________________________\n",
    "# EDA\n",
    "__________________________________________________________________"
   ]
  },
  {
   "cell_type": "code",
   "execution_count": null,
   "id": "45fa4d7e-97a7-43c0-9600-c99134eef20c",
   "metadata": {
    "tags": []
   },
   "outputs": [],
   "source": [
    "# Checking out the total number of NA values left\n",
    "data.isna().sum().sum()"
   ]
  },
  {
   "cell_type": "markdown",
   "id": "a5eaa80e-5be2-4177-9fa5-6aa42a440723",
   "metadata": {},
   "source": [
    "#### Discovering the price variable"
   ]
  },
  {
   "cell_type": "code",
   "execution_count": null,
   "id": "aeabd0d5-c037-4eed-8b2e-38f67b35e889",
   "metadata": {
    "tags": []
   },
   "outputs": [],
   "source": [
    "# Checking the basic metrics for price\n",
    "data.usd_price_day.describe(percentiles = [0.01, 0.1, 0.25, 0.5, 0.75, 0.9, 0.95, 0.99]).map('{:,.1f}'.format)"
   ]
  },
  {
   "cell_type": "code",
   "execution_count": null,
   "id": "c5f09e95-a15c-4527-a7e6-db24fe8442b7",
   "metadata": {
    "tags": []
   },
   "outputs": [],
   "source": [
    "# Drop extreme values\n",
    "data = data[data['usd_price_day'] <= 300]"
   ]
  },
  {
   "cell_type": "code",
   "execution_count": null,
   "id": "59faf2a2-e582-4443-8be9-63256d62868a",
   "metadata": {
    "tags": []
   },
   "outputs": [],
   "source": [
    "# Checking the distribution of airbnb prices\n",
    "ggplot(data, aes(x='usd_price_day')) + \\\n",
    "    geom_histogram(fill='purple', color='purple', bins=100) + \\\n",
    "    theme_minimal() + \\\n",
    "    ggtitle('Price distribution of Airbnbs in Toronto') + \\\n",
    "    xlab('Price') + \\\n",
    "    ylab('Number of listings') "
   ]
  },
  {
   "cell_type": "code",
   "execution_count": null,
   "id": "2c58d483-0cf1-427f-9c95-0a1686e30156",
   "metadata": {
    "tags": []
   },
   "outputs": [],
   "source": [
    "# Checking the distribution of hourly wages\n",
    "ax = sns.histplot(data, x='usd_price_day', stat='density')\n",
    "sns.kdeplot(data, x='usd_price_day', color=\"red\")\n",
    "\n",
    "ax.yaxis.set_visible(False)\n",
    "plt.title('Distribution of prices (in USD)')\n",
    "plt.xlabel('Price')\n",
    "plt.ylabel('Number of listings');"
   ]
  },
  {
   "cell_type": "code",
   "execution_count": null,
   "id": "2d74e601-051b-4641-99a4-9beae2d94c32",
   "metadata": {
    "tags": []
   },
   "outputs": [],
   "source": [
    "# Taking a look at the average price by property and room type\n",
    "data.groupby([\"f_property_type\", \"f_room_type\"]).agg(mean_price=(\"usd_price_day\", np.mean))"
   ]
  },
  {
   "cell_type": "markdown",
   "id": "d6d3df1a-a840-4579-a7c5-fd5544d45c05",
   "metadata": {},
   "source": [
    "______________________________________________________________\n",
    "# Modelling\n",
    "\n",
    "____________________________________________________________________________\n"
   ]
  },
  {
   "cell_type": "code",
   "execution_count": null,
   "id": "74f623a3-b5ab-4e6c-a0b5-01ecabb50c58",
   "metadata": {
    "tags": []
   },
   "outputs": [],
   "source": [
    "# Creating a box plot groupped by property types\n",
    "(\n",
    "    ggplot(data, aes(x=\"f_property_type\", y=\"usd_price_day\"))\n",
    "    + stat_boxplot(\n",
    "        aes(group=\"f_property_type\"),\n",
    "        geom=\"errorbar\",\n",
    "        width=0.3,\n",
    "        color=('#af8dc3', \"#7fbf7b\"),\n",
    "        size=0.5,\n",
    "        na_rm=True,\n",
    "    )\n",
    "    + geom_boxplot(\n",
    "        aes(group=\"f_property_type\"),\n",
    "        color=('#af8dc3', \"#7fbf7b\"),\n",
    "        size=0.5,\n",
    "        width=0.6,\n",
    "        alpha=0.3,\n",
    "        na_rm=True,\n",
    "        outlier_shape=\"\",\n",
    "    )\n",
    "    + scale_y_continuous(expand=(0.01, 0.01), limits=(0, 300), breaks=seq(0, 301, 50))\n",
    "    + labs(x=\"Property type\", y=\"Price (US dollars)\")\n",
    "    + theme_bw()\n",
    ")"
   ]
  },
  {
   "cell_type": "code",
   "execution_count": null,
   "id": "3d920dbf-8730-493a-87ec-bcbbeef1041c",
   "metadata": {
    "tags": []
   },
   "outputs": [],
   "source": [
    "# Creating a box plot groupped by room types\n",
    "(\n",
    "    ggplot(data, aes(x=\"f_room_type\", y=\"usd_price_day\"))\n",
    "    + stat_boxplot(\n",
    "        aes(group=\"f_room_type\"),\n",
    "        geom=\"errorbar\",\n",
    "        width=0.3,\n",
    "        color=(color[1], color[0], color[2]),\n",
    "        size=0.5,\n",
    "        na_rm=True,\n",
    "    )\n",
    "    + geom_boxplot(\n",
    "        aes(group=\"f_room_type\"),\n",
    "        color=(color[1], color[0], color[2]),\n",
    "        size=0.5,\n",
    "        width=0.6,\n",
    "        alpha=0.3,\n",
    "        na_rm=True,\n",
    "        outlier_shape=\"\",\n",
    "    )\n",
    "    + scale_y_continuous(expand=(0.01, 0.01), limits=(0, 300), breaks=seq(0, 301, 50))\n",
    "    + labs(x=\"Room type\", y=\"Price (US dollars)\")\n",
    "    + theme_bw()\n",
    ")"
   ]
  },
  {
   "cell_type": "code",
   "execution_count": null,
   "id": "82156d74-00b1-440e-ae7d-892991bf479e",
   "metadata": {
    "tags": []
   },
   "outputs": [],
   "source": [
    "# To see extreme values, it's better to plot the seaborn version as well\n",
    "sns.boxplot(data = data, x = 'f_room_type', y = 'usd_price_day', orient = 'v')\n",
    "plt.title('Price distribution of Airbnbs in Toronto by room type')\n",
    "plt.xlabel('Room types')\n",
    "plt.ylabel('Price per day (US dollars)')\n",
    "plt.show()"
   ]
  },
  {
   "cell_type": "code",
   "execution_count": null,
   "id": "678ddfa6-aa52-442f-af5d-63d5aad28e3b",
   "metadata": {
    "tags": []
   },
   "outputs": [],
   "source": [
    "# We have to consider that there is a marginal value for shared room type\n",
    "data.f_room_type.value_counts()"
   ]
  },
  {
   "cell_type": "code",
   "execution_count": null,
   "id": "612c71f8-6828-4708-83d6-6b88cc309d51",
   "metadata": {
    "tags": []
   },
   "outputs": [],
   "source": [
    "# Looking at the prices based on the number of accommodates\n",
    "(\n",
    "    ggplot(\n",
    "        data,\n",
    "        aes(\n",
    "            x=\"factor(n_accommodates)\",\n",
    "            y=\"usd_price_day\",\n",
    "            color=\"factor(f_property_type)\",\n",
    "        ),\n",
    "        \n",
    "    )\n",
    "    + geom_boxplot(alpha=0.8, na_rm=True, outlier_shape=\"\", width=0.8, stat=\"boxplot\")\n",
    "    + stat_boxplot(geom=\"errorbar\", width=0.8, size=0.3, na_rm=True)\n",
    "    + scale_color_manual(name=\"\", values=(color[1], color[0]))\n",
    "    + scale_fill_manual(name=\"\", values=(color[1], color[0]))\n",
    "    + labs(x=\"Accomodates (Persons)\", y=\"Price (US dollars)\",\n",
    "          title = \"Price distribution of houses and rental units by the number of accommodates\")\n",
    "    + scale_y_continuous(expand=(0.01, 0.01), limits=(0, 400), breaks=seq(0, 401, 50))\n",
    "    + theme_bw()\n",
    "    + theme(legend_position=(0.3, 0.8))\n",
    ")"
   ]
  },
  {
   "cell_type": "markdown",
   "id": "f3abd71b-7ddc-44dc-8eab-ccab36f571cd",
   "metadata": {},
   "source": [
    "__________________________________________________________________\n",
    "# 1. Model: OLS\n",
    "__________________________________________________________________"
   ]
  },
  {
   "cell_type": "markdown",
   "id": "21b1b850-588f-483d-ad83-a27d5a57307c",
   "metadata": {},
   "source": [
    "#### Model 1. Regression of price on number of accommodates\n",
    "$price=\\beta_0 + \\beta_1 accommodates$"
   ]
  },
  {
   "cell_type": "code",
   "execution_count": null,
   "id": "94bdf70f-f20a-4093-a21e-729a61ef52f5",
   "metadata": {
    "tags": []
   },
   "outputs": [],
   "source": [
    "# Creating the regression for Model 1\n",
    "reg1 = smf.ols(formula=\"usd_price_day~n_accommodates\", data=data).fit(cov_type=\"HC1\")"
   ]
  },
  {
   "cell_type": "markdown",
   "id": "bef672c7-8cd1-4382-a20d-86236715c1bc",
   "metadata": {},
   "source": [
    "## Linear (OLS) vs  Non-linear (Lowess)"
   ]
  },
  {
   "cell_type": "code",
   "execution_count": null,
   "id": "611cb8c3-8175-4022-b2d6-e26b2ace260e",
   "metadata": {
    "tags": []
   },
   "outputs": [],
   "source": [
    "# Plotting the OLS and Lowess models\n",
    "sns.regplot(data, x = 'n_accommodates', y = 'usd_price_day', marker= '.', fit_reg= True, lowess= True, line_kws = {'color':'purple'})\n",
    "\n",
    "# OLS\n",
    "sns.regplot(data, x = 'n_accommodates', y = 'usd_price_day', scatter=False, line_kws={'color':'red', 'linestyle': '--'})\n",
    "\n",
    "plt.title(\"Price per day compared to the number of accomodates in an apartment\")\n",
    "plt.xlabel('Number of accommodates in an apartment')\n",
    "plt.ylabel('Price per day (in USD)')\n",
    "plt.legend(['Observation', 'Lowess', 'OLS'])\n",
    "\n",
    "plt.show()\n"
   ]
  },
  {
   "cell_type": "markdown",
   "id": "4b266cab-a322-46ce-80ea-419bfc08f031",
   "metadata": {},
   "source": [
    "The OLS and the Lowess plots are quite similar, therefore the linear model could easily find a good fit."
   ]
  },
  {
   "cell_type": "markdown",
   "id": "fcd4c0d3-40df-4f86-80d2-d2ad0a10772a",
   "metadata": {},
   "source": [
    "## Further models\n",
    "\n",
    "#### Model 2. M1 + room types, property types, bathrooms, bedrooms, number of reviews"
   ]
  },
  {
   "cell_type": "markdown",
   "id": "3d2a538d-02be-4dfb-9513-1cd0a4b6823f",
   "metadata": {},
   "source": [
    "#### Model 3. M2 + neighbourhood cleansed"
   ]
  },
  {
   "cell_type": "markdown",
   "id": "5262fd60-ca8c-4299-a0cf-94be8eaf369b",
   "metadata": {},
   "source": [
    "#### Model 4. M3 + several basic variables interactions"
   ]
  },
  {
   "cell_type": "code",
   "execution_count": null,
   "id": "2de6979e-7a02-4d9b-bca8-3c1a58f8b99d",
   "metadata": {},
   "outputs": [],
   "source": [
    "# Creating the regressions\n",
    "reg2 = smf.ols(formula=\"usd_price_day~n_accommodates + f_room_type + f_property_type + f_bathrooms + n_beds + f_number_of_reviews\", data=data).fit(cov_type=\"HC1\")\n",
    "reg3 = smf.ols(formula=\"usd_price_day~n_accommodates + f_room_type + f_property_type + f_bathrooms + n_beds + f_number_of_reviews + f_neighbourhood_cleansed\", data=data).fit(cov_type=\"HC1\")\n",
    "reg4 = smf.ols(formula=\"usd_price_day~n_accommodates + f_room_type + f_property_type + f_neighbourhood_cleansed + f_bathrooms + n_beds + f_number_of_reviews + f_room_type*f_property_type + n_accommodates*f_property_type + f_room_type*d_has_availability + f_bathrooms*f_property_type + f_neighbourhood_cleansed*f_property_type + d_instant_bookable*f_minimum_nights\", data=data).fit(cov_type=\"HC1\")"
   ]
  },
  {
   "cell_type": "code",
   "execution_count": null,
   "id": "d588f105-4f1e-4fcd-9888-9f41d612bb29",
   "metadata": {
    "tags": []
   },
   "outputs": [],
   "source": [
    "# Viewing regression results with stargazer\n",
    "sg = stargazer.Stargazer([reg1, reg2, reg3, reg4])\n",
    "covariate_order = [\"f_room_type[T.Private]\", \"f_room_type[T.Shared]\", \"f_property_type[T.Rental Unit]\",\n",
    "                   \"n_accommodates\", \"f_bathrooms[T.1]\", \"f_bathrooms[T.2]\", \"n_beds\",\n",
    "                   \"f_number_of_reviews[T.1]\", \"f_number_of_reviews[T.2]\", \"Intercept\"]\n",
    "\n",
    "# Set covariate order\n",
    "sg.covariate_order(covariate_order)\n",
    "\n",
    "# Rename covariates\n",
    "sg.rename_covariates({\"n_accommodates\": \"Accommodates\", \n",
    "                      \"f_room_type[T.Private]\": \"Private Room Type\", \n",
    "                      \"f_room_type[T.Shared]\": \"Shared Room Type\", \n",
    "                      \"f_property_type[T.Rental Unit]\": \"Rental Unit\",\n",
    "                      \"f_bathrooms[T.1]\" : \"Bathrooms (1)\",\n",
    "                      \"f_bathrooms[T.2]\" : \"Bathrooms (2-10)\",\n",
    "                      \"n_beds\" : \"Beds\",\n",
    "                      \"f_number_of_reviews[T.1]\" : \"Number of reviews (<27)\",\n",
    "                      \"f_number_of_reviews[T.2]\" : \"Number of reviews (27<)\",\n",
    "                      \"Intercept\": \"Constant\"})\n",
    "\n",
    "# Adding RMSE for measurement in the full sample for each model\n",
    "rmse_values = [round(rmse(x.fittedvalues, data.usd_price_day), 3) for x in [reg1, reg2, reg3, reg4]]\n",
    "sg.add_line('RMSE', rmse_values, location=stargazer.LineLocation.FOOTER_BOTTOM)\n",
    "\n",
    "# Adding BIC for measurement in the full sample for each model\n",
    "bic = [round(x.bic, 2) for x in [reg1, reg2, reg3, reg4]]\n",
    "sg.add_line('BIC', bic, location=stargazer.LineLocation.FOOTER_BOTTOM)\n",
    "\n",
    "# Display Stargazer table\n",
    "sg"
   ]
  },
  {
   "cell_type": "code",
   "execution_count": null,
   "id": "cc4ce31b-295a-49b3-bb1c-f1b8ef34d4ae",
   "metadata": {
    "tags": []
   },
   "outputs": [],
   "source": [
    "# Plotting a bar chart to visualize the differences in BIC scores\n",
    "bic_values = [reg1.bic, reg2.bic, reg3.bic, reg4.bic]\n",
    "\n",
    "# Model names as labels\n",
    "model_names = ['Model 1', 'Model 2', 'Model 3', 'Model 4']\n",
    "\n",
    "# Customizing the bar chart\n",
    "plt.figure(figsize=(6, 4))\n",
    "plt.bar(model_names, bic_values, color='purple')\n",
    "\n",
    "# Adjusting and giving a limited interval for the y axis to see the slight differences between the scores\n",
    "plt.ylim(112000, 114000)\n",
    "plt.title('BIC Values for Different Regression Models')\n",
    "plt.xlabel('Regression Models')\n",
    "plt.ylabel('BIC')\n",
    "plt.show()"
   ]
  },
  {
   "cell_type": "code",
   "execution_count": null,
   "id": "ded59359-9f36-4ccd-86e0-f4e2257fd125",
   "metadata": {
    "tags": []
   },
   "outputs": [],
   "source": [
    "# Plotting a bar chart to visualize the differences in RMSE scores\n",
    "rmse_values = [rmse(reg1.fittedvalues,data.usd_price_day),\n",
    "               rmse(reg2.fittedvalues,data.usd_price_day),\n",
    "               rmse(reg3.fittedvalues,data.usd_price_day),\n",
    "               rmse(reg4.fittedvalues,data.usd_price_day)]\n",
    "\n",
    "# Model names as labels\n",
    "model_names = ['Model 1', 'Model 2', 'Model 3', 'Model 4']\n",
    "\n",
    "# Customizing the bar chart\n",
    "plt.figure(figsize=(6, 4))\n",
    "plt.bar(model_names, rmse_values, color='purple')\n",
    "\n",
    "# Adjusting and giving a limited interval for the y axis to see the slight differences between the scores\n",
    "plt.ylim(51, 59)\n",
    "plt.title('RMSE Values for Different Regression Models')\n",
    "plt.xlabel('Regression Models')\n",
    "plt.ylabel('RMSE')\n",
    "plt.show()"
   ]
  },
  {
   "cell_type": "markdown",
   "id": "1601e9cf-a59d-482f-a373-9c968796521b",
   "metadata": {},
   "source": [
    "__________________________________________________________________\n",
    "# 2. Model: LASSO\n",
    "__________________________________________________________________"
   ]
  },
  {
   "cell_type": "code",
   "execution_count": null,
   "id": "4f92c063-d286-40a0-ae03-268303596fd9",
   "metadata": {},
   "outputs": [],
   "source": [
    "# Defining variables\n",
    "\n",
    "data['n_accommodates2'] = data['n_accommodates']**2\n",
    "data['n_beds2'] = data['n_beds']**2\n",
    "data['n_beds3'] = data['n_beds']**3\n",
    "\n",
    "basic_lev = (\n",
    "    \"n_accommodates\",\n",
    "    \"n_beds\",\n",
    "    \"f_property_type\",\n",
    "    \"f_room_type\",\n",
    ")\n",
    "basic_add = (\"f_bathrooms\", \"f_minimum_nights\")\n",
    "reviews = (\"f_number_of_reviews\", \"n_review_scores_rating\")\n",
    "poly_lev = (\"n_accommodates2\", \"n_beds2\", \"n_beds3\")"
   ]
  },
  {
   "cell_type": "markdown",
   "id": "91184a59-6ae3-4033-9052-418602aa7759",
   "metadata": {},
   "source": [
    "#### Interactions"
   ]
  },
  {
   "cell_type": "code",
   "execution_count": null,
   "id": "1feb5401-dac6-4a36-aa91-d4d061d3f3fd",
   "metadata": {},
   "outputs": [],
   "source": [
    "#######################"
   ]
  },
  {
   "cell_type": "markdown",
   "id": "57118dfb-b52e-469d-9672-015e53f9b96d",
   "metadata": {},
   "source": [
    "#### Regressions with cross-validation"
   ]
  },
  {
   "cell_type": "code",
   "execution_count": null,
   "id": "ae2c839f-9190-448b-880f-1fcd3b985883",
   "metadata": {
    "tags": []
   },
   "outputs": [],
   "source": [
    "# Defining different sets of features\n",
    "X1 = (\"f_room_type*f_property_type\",  \"f_room_type*d_host_is_superhost\")\n",
    "X2 = (\"d_instant_bookable*f_property_type\", \"d_has_availability*f_property_type\", \"d_host_is_superhost*f_property_type\")\n",
    "X3 = (\"(f_property_type + f_room_type + f_minimum_nights + n_beds)*d_host_is_superhost\")"
   ]
  },
  {
   "cell_type": "code",
   "execution_count": null,
   "id": "c4015b32-01b5-44ff-a22f-e42332156c26",
   "metadata": {
    "tags": []
   },
   "outputs": [],
   "source": [
    "# Creating 8 different models\n",
    "modellev1=\"~ n_accommodates\"\n",
    "modellev2=\"~\"+\"+\".join(basic_lev)\n",
    "modellev3=\"~\"+\"+\".join(basic_lev)+\"+\"+\"+\".join(basic_add)+\"+\"+\"+\".join(reviews)\n",
    "modellev4=\"~\"+\"+\".join(basic_lev)+\"+\"+\"+\".join(basic_add)+\"+\"+\"+\".join(reviews)+\"+\"+\"+\".join(poly_lev)\n",
    "modellev5=\"~\"+\"+\".join(basic_lev)+\"+\"+\"+\".join(basic_add)+\"+\"+\"+\".join(reviews)+\"+\"+\"+\".join(poly_lev)+\"+\"+\"+\".join(X1)\n",
    "modellev6=\"~\"+\"+\".join(basic_lev)+\"+\"+\"+\".join(basic_add)+\"+\"+\"+\".join(reviews)+\"+\"+\"+\".join(poly_lev)+\"+\"+\"+\".join(X1)+\"+\"+\"+\".join(X2)\n",
    "modellev7=\"~\"+\"+\".join(basic_lev)+\"+\"+\"+\".join(basic_add)+\"+\"+\"+\".join(reviews)+\"+\"+\"+\".join(poly_lev)+\"+\"+\"+\".join(X1)+\"+\"+\"+\".join(X2)\n",
    "modellev8=\"~\"+\"+\".join(basic_lev)+\"+\"+\"+\".join(basic_add)+\"+\"+\"+\".join(reviews)+\"+\"+\"+\".join(poly_lev)+\"+\"+\"+\".join(X1)+\"+\"+\"+\".join(X2)+\"+\"+X3"
   ]
  },
  {
   "cell_type": "code",
   "execution_count": null,
   "id": "70ac2185-2e74-4398-82a6-30393fa38d1c",
   "metadata": {
    "tags": []
   },
   "outputs": [],
   "source": [
    "# Calculating the sample size\n",
    "smp_size = round(0.2 * data.shape[0])-1\n",
    "smp_size"
   ]
  },
  {
   "cell_type": "code",
   "execution_count": null,
   "id": "fb0f4d57-a718-4511-b861-fe49fb92d3b8",
   "metadata": {
    "tags": []
   },
   "outputs": [],
   "source": [
    "# Set the seed to make results reproducable\n",
    "np.random.seed(20240115)"
   ]
  },
  {
   "cell_type": "code",
   "execution_count": null,
   "id": "f347b31c-24c5-4009-8f10-f0b811d712ca",
   "metadata": {
    "tags": []
   },
   "outputs": [],
   "source": [
    "# Splitting the train and hold out set\n",
    "data_work,data_holdout=train_test_split(data, test_size=smp_size)"
   ]
  },
  {
   "cell_type": "code",
   "execution_count": null,
   "id": "d398cf89-56f3-4c8d-b1d3-a43387a9e753",
   "metadata": {
    "tags": []
   },
   "outputs": [],
   "source": [
    "# Checking the shape of the sets\n",
    "print(data_work.shape)\n",
    "print(data_holdout.shape)"
   ]
  },
  {
   "cell_type": "code",
   "execution_count": null,
   "id": "21eb39fc-be06-4bec-9605-a571be11e7bc",
   "metadata": {
    "tags": []
   },
   "outputs": [],
   "source": [
    "# Setting the n folds to 5 \n",
    "n_folds=5"
   ]
  },
  {
   "cell_type": "code",
   "execution_count": null,
   "id": "f7df0718-3a8c-4cab-ad67-651ed810bb9d",
   "metadata": {
    "tags": []
   },
   "outputs": [],
   "source": [
    "# Splitting the data into 4 categories, assuming that the data is randomly ordered\n",
    "k = KFold(n_splits=4, shuffle=False, random_state=None)"
   ]
  },
  {
   "cell_type": "code",
   "execution_count": null,
   "id": "1b6c1351-cb36-40f4-91b6-608755c2e740",
   "metadata": {
    "tags": []
   },
   "outputs": [],
   "source": [
    "def cv_reg(formula, data, kfold, testdata, robustse=None):\n",
    "    regression_list = []\n",
    "    predicts_on_test = []\n",
    "    rsquared = []\n",
    "    rmse_list = []\n",
    "    rmse_list_test = []\n",
    "\n",
    "    # Calculating OLS for each fold\n",
    "    \n",
    "    for train_index, test_index in k.split(data):\n",
    "        data_train, data_test = data.iloc[train_index, :], data.iloc[test_index, :]\n",
    "        if robustse is None:\n",
    "            model = smf.ols(formula, data=data_train).fit()\n",
    "        else:\n",
    "            model = smf.ols(formula, data=data_train).fit(cov_type=robustse)\n",
    "        regression_list += [model]\n",
    "        predicts_on_test += [model.predict(data_test)]\n",
    "        rsquared += [model.rsquared]\n",
    "\n",
    "        rmse_tr = pd.concat(\n",
    "            [data_train[\"usd_price_day\"], model.predict(data_train)],\n",
    "            axis=1,\n",
    "            keys=[\"usd_price_day\", \"predicted\"],\n",
    "        )\n",
    "        rmse_tr = rmse_tr[~rmse_tr.isna().any(axis=1)]\n",
    "\n",
    "        rmse_te = pd.concat(\n",
    "            [data_test[\"usd_price_day\"], model.predict(data_test)],\n",
    "            axis=1,\n",
    "            keys=[\"usd_price_day\", \"predicted\"],\n",
    "        )\n",
    "        rmse_te = rmse_te[~rmse_te.isna().any(axis=1)]\n",
    "\n",
    "        rmse_list += [rmse(rmse_tr[\"usd_price_day\"], rmse_tr[\"predicted\"], axis=0)]\n",
    "        rmse_list_test += [rmse(rmse_te[\"usd_price_day\"], rmse_te[\"predicted\"], axis=0)]\n",
    "    nvars = model.df_model\n",
    "\n",
    "    # We return a dictionary with the \n",
    "    return {\n",
    "        \"regressions\": regression_list,\n",
    "        \"test_predict\": predicts_on_test,\n",
    "        \"r2\": rsquared,\n",
    "        \"rmse\": rmse_list,\n",
    "        \"rmse_test\": rmse_list_test,\n",
    "        \"nvars\": nvars,\n",
    "    }\n",
    "\n",
    "# Summarize method --> gives us a df\n",
    "def summarize_cv(cvlist, stat=\"rmse\"):\n",
    "    result = pd.DataFrame(\n",
    "        {\"Model\" + str(x + 1): cvlist[x][stat] for x in range(len(cvlist))}\n",
    "    )\n",
    "    result[\"Resample\"] = [\"Fold\" + str(x + 1) for x in range(len(cvlist[0][\"rmse\"]))]\n",
    "    result = result.set_index(\"Resample\")\n",
    "    result = pd.concat([result, pd.DataFrame(result.mean(), columns=[\"Average\"]).T])\n",
    "    return result"
   ]
  },
  {
   "cell_type": "code",
   "execution_count": null,
   "id": "c1f01129-40b3-40aa-ae8b-5327f9842109",
   "metadata": {
    "tags": []
   },
   "outputs": [],
   "source": [
    "# Performing cross-validated linear regressions with cov.type = HC0\n",
    "cv_list = []\n",
    "for i in [\n",
    "    modellev1,\n",
    "    modellev2,\n",
    "    modellev3,\n",
    "    modellev4,\n",
    "    modellev5,\n",
    "    modellev6,\n",
    "    modellev7,\n",
    "    modellev8,\n",
    "]:\n",
    "    cv_list += [cv_reg(\"usd_price_day\" + i, data, k, \"HC0\")]"
   ]
  },
  {
   "cell_type": "code",
   "execution_count": null,
   "id": "6de1a6bf-c217-48bc-a4fd-699abf97734a",
   "metadata": {},
   "outputs": [],
   "source": [
    "# Summarizing the cross-validation results\n",
    "summarize_cv(cv_list)"
   ]
  },
  {
   "cell_type": "code",
   "execution_count": null,
   "id": "d0c9e407-0289-44b4-a5a8-4f8a957939ea",
   "metadata": {
    "tags": []
   },
   "outputs": [],
   "source": [
    "# Creating a DataFrame for the RMSE values of the train and the test set\n",
    "rmse_levels = {\"nvars\": [], \"var\": [], \"value\": []}\n",
    "for i in range(0, 8):\n",
    "    rmse_levels[\"nvars\"].append(int(cv_list[i][\"nvars\"]))\n",
    "    rmse_levels[\"var\"].append(\"RMSE Training\")\n",
    "    rmse_levels[\"value\"].append(pd.Series(cv_list[i][\"rmse\"]).mean())\n",
    "for i in range(0, 8):\n",
    "    rmse_levels[\"nvars\"].append(int(cv_list[i][\"nvars\"]))\n",
    "    rmse_levels[\"var\"].append(\"RMSE Test\")\n",
    "    rmse_levels[\"value\"].append(pd.Series(cv_list[i][\"rmse_test\"]).mean())\n",
    "rmse_levels = pd.DataFrame.from_dict(rmse_levels)\n",
    "rmse_levels[\"nvars2\"] = rmse_levels[\"nvars\"] + 1"
   ]
  },
  {
   "cell_type": "code",
   "execution_count": null,
   "id": "e6e9e287-3c86-41f9-bd63-2783fe09e456",
   "metadata": {
    "tags": []
   },
   "outputs": [],
   "source": [
    "rmse_levels"
   ]
  },
  {
   "cell_type": "code",
   "execution_count": null,
   "id": "f656b677-cfee-4cc1-88ee-057f34aba1b0",
   "metadata": {
    "tags": []
   },
   "outputs": [],
   "source": [
    "# Visualizing the RMSE values of the train and the test set\n",
    "(\n",
    "    ggplot(rmse_levels, aes(x=\"factor(nvars2)\", y=\"value\", color=\"var\", group=\"var\"))\n",
    "    + geom_line(size=1, show_legend=True, na_rm=True)\n",
    "    + scale_color_manual(name=\"\", values=(color[0], color[1]))\n",
    "    + scale_y_continuous(name=\"RMSE\", limits=(50, 70), breaks=seq(50, 70, 2))\n",
    "    + scale_x_discrete(\n",
    "        name=\"Number of coefficients\",\n",
    "        expand=(0.01, 0.01)\n",
    "    )\n",
    "    + theme_bw()\n",
    ")"
   ]
  },
  {
   "cell_type": "markdown",
   "id": "00f777f3-76cf-4716-b447-1dd4da29853c",
   "metadata": {},
   "source": [
    "The RMSE values of the train and the test set seem to align and go to the same direction, suggesting that the model is not overfitting and the model is generalizing well to unseen data. The RMSE values of the test set suggest that the model is improving in its predictive power, but there is a slight split when the number of coefficients reaches 18. Despite the good performance, further analysis and evaluation are needed to determine the best model for the specific context and requirements."
   ]
  },
  {
   "cell_type": "markdown",
   "id": "4e8073d2-f7ec-49a3-a3f8-e34f927ac310",
   "metadata": {},
   "source": [
    "#### Doing LASSO in another way to check out lambda values"
   ]
  },
  {
   "cell_type": "code",
   "execution_count": null,
   "id": "dfb28a9a-68bf-44a7-bbf2-d31e953d5916",
   "metadata": {
    "tags": []
   },
   "outputs": [],
   "source": [
    "# Defining the model evaluation method and splitting the dataset into 5 folds\n",
    "cv = RepeatedKFold(n_splits=5, n_repeats=1, random_state=1)\n",
    "y, X = patsy.dmatrices(\"usd_price_day\" + modellev8, data)"
   ]
  },
  {
   "cell_type": "code",
   "execution_count": null,
   "id": "4d4f823f-5a07-45ca-b685-6f6cda3a3e79",
   "metadata": {
    "tags": []
   },
   "outputs": [],
   "source": [
    "# Scaling the data\n",
    "scaler = StandardScaler()\n",
    "X = scaler.fit_transform(X)\n",
    "\n",
    "# Preparing for Ridge regression with cross-validation\n",
    "X_train, X_test, y_train, y_test = train_test_split(\n",
    "    X, y, test_size=smp_size, random_state=10\n",
    ")\n",
    "\n",
    "# Defining a range of lambda values\n",
    "lambdas = [i/100 for i in range(5, 100,5)]\n",
    "\n",
    "# Creating arrays to store R-squared values\n",
    "train_r_squared = np.zeros(len(lambdas))\n",
    "test_r_squared = np.zeros(len(lambdas))\n",
    "\n",
    "pred_num = X.shape[1]\n",
    "coeff_a = np.zeros((len(lambdas), pred_num))"
   ]
  },
  {
   "cell_type": "code",
   "execution_count": null,
   "id": "8a7503af-957a-4b55-a82b-26681f11eecd",
   "metadata": {
    "tags": []
   },
   "outputs": [],
   "source": [
    "import datetime\n",
    "from sklearn.model_selection import cross_val_score\n",
    "\n",
    "for ind, i in enumerate(lambdas):\n",
    "    print(f\"Run: {str(ind).rjust(2)}, lambda: {i:.2f}, start: {datetime.datetime.now().strftime('%Y-%m-%d %H:%M:%S')}\")\n",
    "    \n",
    "    reg = Lasso(alpha = i, random_state= 20240211)\n",
    "    reg.fit(X_train, y_train)\n",
    "    results = cross_val_score(reg, X, y, cv=cv, scoring=\"r2\")\n",
    "\n",
    "    train_r_squared[ind] = reg.score(X_train, y_train)    \n",
    "    test_r_squared[ind] = reg.score(X_test, y_test)"
   ]
  },
  {
   "cell_type": "code",
   "execution_count": null,
   "id": "49f0fd8a-6e90-4035-9e57-3bccb88285a2",
   "metadata": {
    "tags": []
   },
   "outputs": [],
   "source": [
    "# Melting the R-squared data into a DataFrame\n",
    "r_squared_data = (\n",
    "    pd.DataFrame(\n",
    "        {\n",
    "            \"$R^2$ Test set\": test_r_squared,\n",
    "            \"$R^2$ Training set\": train_r_squared,\n",
    "            \"lambda\": lambdas,\n",
    "        }\n",
    "    )\n",
    "    .melt(id_vars=[\"lambda\"])\n",
    ")"
   ]
  },
  {
   "cell_type": "code",
   "execution_count": null,
   "id": "ff97285a-990a-4ddb-b362-075528647271",
   "metadata": {
    "tags": []
   },
   "outputs": [],
   "source": [
    "# Transforming the variables into categorical and reordering\n",
    "r_squared_data[\"variable\"] = r_squared_data[\"variable\"].astype(\"category\").cat.reorder_categories(\n",
    "    [\"$R^2$ Training set\", \"$R^2$ Test set\"]\n",
    ")"
   ]
  },
  {
   "cell_type": "code",
   "execution_count": null,
   "id": "62000d80-7491-481f-b777-5f9e5765d66b",
   "metadata": {
    "tags": []
   },
   "outputs": [],
   "source": [
    "r_squared_data"
   ]
  },
  {
   "cell_type": "code",
   "execution_count": null,
   "id": "555a0680-c229-40e7-8a73-2224e129c894",
   "metadata": {
    "tags": []
   },
   "outputs": [],
   "source": [
    "# Plotting the R2 results\n",
    "(\n",
    "    ggplot(r_squared_data, aes(x=\"lambda\", y=\"value\", color=\"variable\"))\n",
    "    + geom_point()\n",
    "    + geom_line(size=1, show_legend=False, na_rm=True)\n",
    "    + scale_color_manual(name=\"\", values=(color[1], color[0]))\n",
    "    + scale_y_continuous(name=\"$R^2$\")\n",
    "    + facet_wrap(\"variable\", scales=\"free\")\n",
    "    + theme_bw()\n",
    "    + theme(subplots_adjust={\"wspace\": 0.25},legend_title=element_blank())\n",
    ")"
   ]
  },
  {
   "cell_type": "markdown",
   "id": "de82a25e-3476-4416-a2ca-466a87fe6635",
   "metadata": {},
   "source": [
    "Separating the R2 values gave us another perspective on fit and model performance. Similar to the other LASSO results, the values indicate that the model is fitting well to both data sets. The R2 values of the training set are higher than the test set which was expected. The R-squared values of the test set are the highest when lambda equals to 0.05 and the values decrease gradually as lambda increases. This suggest thata lower lambda value might be more optimal to achieve a better fit on unseen data. However, the decreasing trend in the R2 values in the test set indicates that regularization (a higher lambda) helps prevent overfitting."
   ]
  },
  {
   "cell_type": "markdown",
   "id": "0350f576-1cea-4e51-8447-10f8991a93d3",
   "metadata": {},
   "source": [
    "__________________________________________________________________\n",
    "# 3. Model: Random Forest\n",
    "__________________________________________________________________"
   ]
  },
  {
   "cell_type": "code",
   "execution_count": null,
   "id": "2e3f7712-ad5d-48de-ba29-3fbc778b0b41",
   "metadata": {
    "tags": []
   },
   "outputs": [],
   "source": [
    "# Setting the train and hold out set\n",
    "data_train, data_holdout = train_test_split( data, train_size=0.7, random_state=42)"
   ]
  },
  {
   "cell_type": "code",
   "execution_count": null,
   "id": "e61815d9-92e7-4072-bbb8-4e7b9d6f85b0",
   "metadata": {},
   "outputs": [],
   "source": [
    "# Checking the shape of the train set and hold out set\n",
    "data_train.shape, data_holdout.shape"
   ]
  },
  {
   "cell_type": "code",
   "execution_count": null,
   "id": "2953a53c-1ee4-4efb-8f2d-d9f0abea0d9c",
   "metadata": {
    "tags": []
   },
   "outputs": [],
   "source": [
    "# Creating a list for basic variables\n",
    "basic_vars = [\n",
    "    \"n_accommodates\",\n",
    "    \"n_beds\",\n",
    "    \"f_property_type\",\n",
    "    \"f_room_type\",\n",
    "    \"f_bathrooms\",\n",
    "    \"f_minimum_nights\",\n",
    "    \"n_maximum_nights\",\n",
    "    \"f_neighbourhood_cleansed\",\n",
    "]\n",
    "\n",
    "# Creating a list for reviews variables\n",
    "reviews = [\n",
    "    \"f_number_of_reviews\",\n",
    "    \"n_review_scores_rating\",\n",
    "    \"n_reviews_per_month\",\n",
    "]\n",
    "\n",
    "# Creating amenities from the dummy variables\n",
    "amenities = [col for col in data if col.startswith(\"d_\")]"
   ]
  },
  {
   "cell_type": "code",
   "execution_count": null,
   "id": "b5bb709d-3087-4247-91db-ef08608fe075",
   "metadata": {
    "tags": []
   },
   "outputs": [],
   "source": [
    "amenities"
   ]
  },
  {
   "cell_type": "code",
   "execution_count": null,
   "id": "da224c64-8d1b-4353-babd-55d63be0beb8",
   "metadata": {
    "tags": []
   },
   "outputs": [],
   "source": [
    "# Creating interactions for LASSO\n",
    "X1 = [\n",
    "    \"n_accommodates:f_property_type\",\n",
    "    \"f_room_type:f_property_type\",\n",
    "    \"f_room_type:d_has_availability\",\n",
    "    \"f_bathrooms:f_property_type\",\n",
    "    \"f_neighbourhood_cleansed:f_property_type\",\n",
    "    \"d_instant_bookable:f_minimum_nights\",\n",
    "]\n",
    "# with boroughs\n",
    "X2 = [\n",
    "    \"f_property_type:f_neighbourhood_cleansed\",\n",
    "    \"f_room_type:f_neighbourhood_cleansed\",\n",
    "    \"n_accommodates:f_neighbourhood_cleansed\",\n",
    "]"
   ]
  },
  {
   "cell_type": "code",
   "execution_count": null,
   "id": "01459c71-401f-4d3c-9ca1-7fa7b5d18962",
   "metadata": {
    "tags": []
   },
   "outputs": [],
   "source": [
    "# Creating different predictors, including the basic variables, amenities and the interaction terms\n",
    "predictors_1 = basic_vars\n",
    "predictors_2 = basic_vars + reviews + amenities\n",
    "predictors_E = basic_vars + reviews + amenities + X1 + X2"
   ]
  },
  {
   "cell_type": "code",
   "execution_count": null,
   "id": "b98fb3be-458e-4b51-a907-791ee9652f88",
   "metadata": {
    "tags": []
   },
   "outputs": [],
   "source": [
    "# Creating the design matrices that represents the predictors_2 and the target variable in a structured format\n",
    "y, X = dmatrices(\"usd_price_day ~ \" + \" + \".join(predictors_2), data_train)"
   ]
  },
  {
   "cell_type": "code",
   "execution_count": null,
   "id": "d6684ba9-ce57-471f-bc92-e60604602cf8",
   "metadata": {
    "tags": []
   },
   "outputs": [],
   "source": [
    "X"
   ]
  },
  {
   "cell_type": "code",
   "execution_count": null,
   "id": "e5b1bd21-ff09-4890-8a7c-ec71eb32bc25",
   "metadata": {
    "tags": []
   },
   "outputs": [],
   "source": [
    "X.design_info.column_names"
   ]
  },
  {
   "cell_type": "code",
   "execution_count": null,
   "id": "17ef1eaa-eafd-4400-8ccd-1bd1085d30fc",
   "metadata": {
    "tags": []
   },
   "outputs": [],
   "source": [
    "np.asarray(X)"
   ]
  },
  {
   "cell_type": "code",
   "execution_count": null,
   "id": "2fe333cd-e33e-4d4d-ae8e-ca118749b438",
   "metadata": {
    "tags": []
   },
   "outputs": [],
   "source": [
    "# According to the theory, the optimal number of trees is the square root of the number of variables we obtain\n",
    "print('The theoretical recommended number of variables: {:.2f}.'.format(math.sqrt(len(X.design_info.column_names))))"
   ]
  },
  {
   "cell_type": "code",
   "execution_count": null,
   "id": "f7b5687f-abad-4f0f-ac19-8a0203021ad3",
   "metadata": {
    "tags": []
   },
   "outputs": [],
   "source": [
    "# Checking the shape of the X matrice\n",
    "X.shape"
   ]
  },
  {
   "cell_type": "code",
   "execution_count": null,
   "id": "f8cdff3b-d26e-4827-8f20-5d17e32c68e6",
   "metadata": {
    "tags": []
   },
   "outputs": [],
   "source": [
    "type(y)"
   ]
  },
  {
   "cell_type": "code",
   "execution_count": null,
   "id": "7a73d6ab-0915-4851-a3a8-d9931917b63d",
   "metadata": {
    "tags": []
   },
   "outputs": [],
   "source": [
    "# Checking the shape of the y matrice\n",
    "y.shape"
   ]
  },
  {
   "cell_type": "code",
   "execution_count": null,
   "id": "a037ce67-62ed-4f9f-9557-7a3655e36c9d",
   "metadata": {
    "tags": []
   },
   "outputs": [],
   "source": [
    "# Transforming y to one-dimensional to make it compatible for the modeling algorithm\n",
    "y.ravel().shape"
   ]
  },
  {
   "cell_type": "code",
   "execution_count": null,
   "id": "06350fb5-02fc-453d-8bc1-67d1e5ac670d",
   "metadata": {
    "tags": []
   },
   "outputs": [],
   "source": [
    "# Creating a GridSearch\n",
    "rfr = RandomForestRegressor(random_state = 20240211)"
   ]
  },
  {
   "cell_type": "code",
   "execution_count": null,
   "id": "75aafeec-4f4b-4d65-ab43-08399859b2ad",
   "metadata": {
    "tags": []
   },
   "outputs": [],
   "source": [
    "# Searching for every potential parameter\n",
    "tune_grid = {\"max_features\": [6, 8, 10, 12], \"min_samples_leaf\": [5, 10, 15]}"
   ]
  },
  {
   "cell_type": "code",
   "execution_count": null,
   "id": "34c3c09b-343f-49bd-b510-b6fc7e2a0871",
   "metadata": {
    "tags": []
   },
   "outputs": [],
   "source": [
    "# Using GridSearch to tune hyperparameters of an estimator and find the best combination of parameter values\n",
    "rf_random = GridSearchCV(\n",
    "    rfr,\n",
    "    tune_grid,\n",
    "    cv=5,\n",
    "    scoring=\"neg_root_mean_squared_error\",\n",
    "    verbose=3,\n",
    ")"
   ]
  },
  {
   "cell_type": "code",
   "execution_count": null,
   "id": "86d0cd0e-60f6-4b59-a3e5-0427e7d846c4",
   "metadata": {
    "tags": []
   },
   "outputs": [],
   "source": [
    "%%time\n",
    "\n",
    "# Triggering the GridSearch process\n",
    "# Evaluating different combinations of hyperparameters using CV\n",
    "rf_model = rf_random.fit(X, y.ravel())"
   ]
  },
  {
   "cell_type": "code",
   "execution_count": null,
   "id": "e9f5a5ee-5b9a-46dd-aaf7-e996d8f6ba81",
   "metadata": {},
   "outputs": [],
   "source": [
    "# Getting the cross-valudates results\n",
    "rf_model.cv_results_"
   ]
  },
  {
   "cell_type": "code",
   "execution_count": null,
   "id": "1bc84d02-3f3e-4109-9d54-b4858dcf5246",
   "metadata": {
    "tags": []
   },
   "outputs": [],
   "source": [
    "# Placing the cross-validated results into a DataFrame\n",
    "df_rf_model_cv_results = pd.DataFrame(rf_model.cv_results_)[[\n",
    "    'param_max_features', 'param_min_samples_leaf', 'mean_test_score']]"
   ]
  },
  {
   "cell_type": "code",
   "execution_count": null,
   "id": "4d2a98ce-dea0-48d5-aab2-59387e0e69db",
   "metadata": {
    "tags": []
   },
   "outputs": [],
   "source": [
    "# Renaming the columns\n",
    "df_rf_model_cv_results.columns = ['Max features', 'Min node size', 'RMSE']"
   ]
  },
  {
   "cell_type": "code",
   "execution_count": null,
   "id": "8b65b46a-9022-47b7-a3aa-e145e5969bfd",
   "metadata": {
    "tags": []
   },
   "outputs": [],
   "source": [
    "# Checking the RMSE of the cv results\n",
    "df_rf_model_cv_results"
   ]
  },
  {
   "cell_type": "code",
   "execution_count": null,
   "id": "e0a9740b-9e0e-401f-9ffc-204ce0491c77",
   "metadata": {
    "tags": []
   },
   "outputs": [],
   "source": [
    "# Reshaping the DataFrame and rounding the values\n",
    "df_rf_model_cv_results.pivot(\n",
    "    index = \"Max features\",\n",
    "    columns = \"Min node size\",\n",
    "    values = \"RMSE\").round(2)*-1"
   ]
  },
  {
   "cell_type": "code",
   "execution_count": null,
   "id": "3e4e2126-fa77-44d6-9b3a-7d0908d0e779",
   "metadata": {
    "tags": []
   },
   "outputs": [],
   "source": [
    "# Filtering for the best score with scikit syntax\n",
    "rf_model.best_score_"
   ]
  },
  {
   "cell_type": "code",
   "execution_count": null,
   "id": "0a66858d-d2e3-430e-b777-de331a85c604",
   "metadata": {
    "tags": []
   },
   "outputs": [],
   "source": [
    "# Filtering for the best parameters with scikit syntax\n",
    "rf_model.best_params_"
   ]
  },
  {
   "cell_type": "code",
   "execution_count": null,
   "id": "8167f800-58f6-4920-8a87-8b2d3b68db91",
   "metadata": {
    "tags": []
   },
   "outputs": [],
   "source": [
    "# Concluding the best estimator\n",
    "rf_model.best_estimator_"
   ]
  },
  {
   "cell_type": "markdown",
   "id": "8030e998-9aef-4b33-923f-a4ac9bf5e697",
   "metadata": {},
   "source": [
    "----------------------------------------------------------------------------------------------------------------\n",
    "## Diagnostics"
   ]
  },
  {
   "cell_type": "markdown",
   "id": "358eb479-8fe3-4eeb-b8d2-555de80c9483",
   "metadata": {},
   "source": [
    "### Feature importances"
   ]
  },
  {
   "cell_type": "code",
   "execution_count": null,
   "id": "ce6f36db-d0bc-48cf-884e-d5a563f29747",
   "metadata": {
    "tags": []
   },
   "outputs": [],
   "source": [
    "# Retrieving the feature importances calculated by the best estimator\n",
    "rf_model.best_estimator_.feature_importances_"
   ]
  },
  {
   "cell_type": "code",
   "execution_count": null,
   "id": "df58f995-bcfc-4338-9aef-ec074b33d045",
   "metadata": {
    "tags": []
   },
   "outputs": [],
   "source": [
    "# Creating a DataFrame to visualize the feature importances and their corresponding column names\n",
    "pd.DataFrame(\n",
    "    rf_model.best_estimator_.feature_importances_, \n",
    "    X.design_info.column_names)"
   ]
  },
  {
   "cell_type": "code",
   "execution_count": null,
   "id": "55b32904-d04e-4a1e-bab5-b91f30c26fad",
   "metadata": {
    "tags": []
   },
   "outputs": [],
   "source": [
    "# Reshaping the DataFrame for better readability\n",
    "# Resetting the index for proper alignment\n",
    "# Renaming the columns to 'variable' and to 'imp'\n",
    "# Sorting the feature importance values by descending order\n",
    "# Resetting the index again and dropping the old ones\n",
    "df_var_imp = pd.DataFrame(\n",
    "    rf_model.best_estimator_.feature_importances_, \n",
    "    X.design_info.column_names)\\\n",
    "    .reset_index()\\\n",
    "    .rename({\"index\": \"variable\", 0: \"imp\"}, axis=1)\\\n",
    "    .sort_values(by=[\"imp\"], ascending=False)\\\n",
    "    .reset_index(drop = True)\n",
    "\n",
    "# Calculating the cumulative sum of feature importance values\n",
    "df_var_imp['cumulative_imp'] = df_var_imp['imp'].cumsum()"
   ]
  },
  {
   "cell_type": "code",
   "execution_count": null,
   "id": "1aebc3f4-4115-4a8e-bf28-0a85540ac1d4",
   "metadata": {
    "tags": []
   },
   "outputs": [],
   "source": [
    "# Formatting the feature importance and cumulative importance columns as percentages for an easier interpreation\n",
    "df_var_imp.style.format({\n",
    "    'imp': lambda x: f'{x:,.1%}',\n",
    "    'cumulative_imp': lambda x: f'{x:,.1%}'})"
   ]
  },
  {
   "cell_type": "code",
   "execution_count": null,
   "id": "bd7b4232-5ce9-48e1-a576-1dc4f4951ad9",
   "metadata": {
    "tags": []
   },
   "outputs": [],
   "source": [
    "# Setting the cutoff to 1%\n",
    "cutoff = 0.01"
   ]
  },
  {
   "cell_type": "code",
   "execution_count": null,
   "id": "cf926ac0-12cd-45ea-a961-a3ec1207ef62",
   "metadata": {
    "tags": []
   },
   "outputs": [],
   "source": [
    "# Plotting feature importances with horizontal bar charts\n",
    "df_var_imp[df_var_imp.imp > cutoff]\\\n",
    "    .sort_values(by = 'imp')\\\n",
    "    .plot(kind = 'barh', \n",
    "          x = 'variable', y = 'imp', \n",
    "          figsize = (10,6), grid = True, \n",
    "          title = 'Random forest model highest feature importances', \n",
    "          ylabel = 'Variables', legend = False\n",
    "         );"
   ]
  },
  {
   "cell_type": "markdown",
   "id": "5d5db25f-08fe-4471-8d46-9362a08ff22d",
   "metadata": {},
   "source": [
    "#### Creating an OLS linear regression with the variables obtaining the highest feature importance values"
   ]
  },
  {
   "cell_type": "code",
   "execution_count": null,
   "id": "2b832e37-52de-45b5-a26a-fcafdc7f8c4c",
   "metadata": {},
   "outputs": [],
   "source": [
    "# Creating the regression\n",
    "reg5 = smf.ols(formula=\"usd_price_day~f_room_type + n_accommodates + n_beds\", data=data).fit(cov_type=\"HC1\")\n",
    "reg5.summary()"
   ]
  },
  {
   "cell_type": "code",
   "execution_count": null,
   "id": "cd4d9091-e663-40b1-b9f0-a0150b37b76b",
   "metadata": {
    "tags": []
   },
   "outputs": [],
   "source": [
    "# Comparing the first linear regression with reg5, the \"optimal\" regression model\n",
    "sg = stargazer.Stargazer([reg1, reg5])\n",
    "\n",
    "# Setting the covariate order\n",
    "covariate_order = [\"f_room_type[T.Private]\", \"f_room_type[T.Shared]\",\n",
    "                   \"n_accommodates\", \"n_beds\", \"Intercept\"]\n",
    "sg.covariate_order(covariate_order)\n",
    "\n",
    "sg.rename_covariates({\"n_accommodates\": \"Accommodates\", \n",
    "                      \"f_room_type[T.Private]\": \"Private Room Type\", \n",
    "                      \"f_room_type[T.Shared]\": \"Shared Room Type\", \n",
    "                      \"n_beds\" : \"Beds\",\n",
    "                      \"Intercept\": \"Constant\"})\n",
    "\n",
    "# Adding RMSE for measurement in the full sample for each model\n",
    "rmse_values = [round(rmse(x.fittedvalues, data.usd_price_day), 3) for x in [reg1, reg5]]\n",
    "sg.add_line('RMSE', rmse_values, location=stargazer.LineLocation.FOOTER_BOTTOM)\n",
    "\n",
    "# Adding BIC for measurement in the full sample for each model\n",
    "bic = [round(x.bic, 2) for x in [reg1, reg5]]\n",
    "sg.add_line('BIC', bic, location=stargazer.LineLocation.FOOTER_BOTTOM)\n",
    "\n",
    "sg"
   ]
  },
  {
   "cell_type": "markdown",
   "id": "d3dfc93e-7f7f-46a6-b369-3e85f9774836",
   "metadata": {},
   "source": [
    "The BIC values for the RandomForest model (112540.63) are lower than those for the manually selected variables model (113928.12), indicating a better fit. Similarly, the RMSE values are lower for the RandomForest model (54.705) than the first regression (58.566), which suggests better predictive accuracy. Overall, using RandomForest to determine the most important variables was a good decision because the 5th regression model not only captures the patterns more effecitvely but provides better predictions for the dependent variable."
   ]
  },
  {
   "cell_type": "code",
   "execution_count": null,
   "id": "1955f5b4-e2de-4d00-80df-960780462df0",
   "metadata": {},
   "outputs": [],
   "source": []
  }
 ],
 "metadata": {
  "kernelspec": {
   "display_name": "Python 3 (ipykernel)",
   "language": "python",
   "name": "python3"
  },
  "language_info": {
   "codemirror_mode": {
    "name": "ipython",
    "version": 3
   },
   "file_extension": ".py",
   "mimetype": "text/x-python",
   "name": "python",
   "nbconvert_exporter": "python",
   "pygments_lexer": "ipython3",
   "version": "3.11.4"
  }
 },
 "nbformat": 4,
 "nbformat_minor": 5
}
